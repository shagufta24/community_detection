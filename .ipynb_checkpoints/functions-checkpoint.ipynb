{
 "cells": [
  {
   "cell_type": "markdown",
   "metadata": {
    "id": "1koGPvNDWvVV"
   },
   "source": [
    "# Imports and Graph\n"
   ]
  },
  {
   "cell_type": "code",
   "execution_count": 1,
   "metadata": {
    "colab": {
     "base_uri": "https://localhost:8080/"
    },
    "id": "Rx4s8RVaFycd",
    "outputId": "76c2bbce-4ee9-4b85-af20-8804f354d71f"
   },
   "outputs": [
    {
     "name": "stdout",
     "output_type": "stream",
     "text": [
      "Requirement already satisfied: python-igraph in c:\\users\\shagu\\appdata\\local\\programs\\python\\python39\\lib\\site-packages (0.9.6)\n",
      "Requirement already satisfied: texttable>=1.6.2 in c:\\users\\shagu\\appdata\\local\\programs\\python\\python39\\lib\\site-packages (from python-igraph) (1.6.3)\n",
      "Note: you may need to restart the kernel to use updated packages.\n"
     ]
    },
    {
     "name": "stderr",
     "output_type": "stream",
     "text": [
      "WARNING: You are using pip version 21.1.3; however, version 22.0.4 is available.\n",
      "You should consider upgrading via the 'c:\\users\\shagu\\appdata\\local\\programs\\python\\python39\\python.exe -m pip install --upgrade pip' command.\n"
     ]
    }
   ],
   "source": [
    "pip install python-igraph"
   ]
  },
  {
   "cell_type": "code",
   "execution_count": 2,
   "metadata": {
    "id": "fBV2XPhZF2YU"
   },
   "outputs": [
    {
     "ename": "ModuleNotFoundError",
     "evalue": "No module named 'networkx'",
     "output_type": "error",
     "traceback": [
      "\u001b[1;31m---------------------------------------------------------------------------\u001b[0m",
      "\u001b[1;31mModuleNotFoundError\u001b[0m                       Traceback (most recent call last)",
      "\u001b[1;32m~\\AppData\\Local\\Temp/ipykernel_24776/3366658107.py\u001b[0m in \u001b[0;36m<module>\u001b[1;34m\u001b[0m\n\u001b[0;32m      1\u001b[0m \u001b[1;32mimport\u001b[0m \u001b[0migraph\u001b[0m \u001b[1;32mas\u001b[0m \u001b[0mig\u001b[0m\u001b[1;33m\u001b[0m\u001b[1;33m\u001b[0m\u001b[0m\n\u001b[0;32m      2\u001b[0m \u001b[1;32mimport\u001b[0m \u001b[0mmatplotlib\u001b[0m\u001b[1;33m.\u001b[0m\u001b[0mpyplot\u001b[0m \u001b[1;32mas\u001b[0m \u001b[0mplt\u001b[0m\u001b[1;33m\u001b[0m\u001b[1;33m\u001b[0m\u001b[0m\n\u001b[1;32m----> 3\u001b[1;33m \u001b[1;32mimport\u001b[0m \u001b[0mnetworkx\u001b[0m \u001b[1;32mas\u001b[0m \u001b[0mnx\u001b[0m\u001b[1;33m\u001b[0m\u001b[1;33m\u001b[0m\u001b[0m\n\u001b[0m\u001b[0;32m      4\u001b[0m \u001b[1;32mimport\u001b[0m \u001b[0mpylab\u001b[0m\u001b[1;33m\u001b[0m\u001b[1;33m\u001b[0m\u001b[0m\n\u001b[0;32m      5\u001b[0m \u001b[1;32mimport\u001b[0m \u001b[0mstatistics\u001b[0m\u001b[1;33m\u001b[0m\u001b[1;33m\u001b[0m\u001b[0m\n",
      "\u001b[1;31mModuleNotFoundError\u001b[0m: No module named 'networkx'"
     ]
    }
   ],
   "source": [
    "import igraph as ig\n",
    "import matplotlib.pyplot as plt\n",
    "import networkx as nx\n",
    "import pylab\n",
    "import statistics\n",
    "import math \n",
    "from math import sqrt\n",
    "import numpy as np"
   ]
  },
  {
   "cell_type": "markdown",
   "metadata": {
    "id": "aY0R4L5_SAhH"
   },
   "source": [
    "### Creating Graphs"
   ]
  },
  {
   "cell_type": "code",
   "execution_count": null,
   "metadata": {
    "id": "GmdD2-aVIGpq"
   },
   "outputs": [],
   "source": [
    "# Creating graphs\n",
    "karate = ig.Graph.Read_GML(\"karate.gml\")\n",
    "karate_list = karate.get_edgelist()\n",
    "karatenx = nx.Graph(karate_list) # In case you graph is undirected\n",
    "\n",
    "# karatenx = nx.karate_club_graph()   # creating separate \n",
    "# nx.draw_circular(karatenx)\n"
   ]
  },
  {
   "cell_type": "code",
   "execution_count": null,
   "metadata": {
    "colab": {
     "base_uri": "https://localhost:8080/"
    },
    "id": "IeLvFnJbj9cU",
    "outputId": "6bc02132-f84c-4994-ac52-161aef8b9bb4"
   },
   "outputs": [
    {
     "name": "stdout",
     "output_type": "stream",
     "text": [
      "[0, 1, 2, 3, 4, 5, 6, 7, 8, 9, 10, 11, 12, 13, 14, 15, 16, 17, 18, 19, 20, 21, 22, 23, 24, 25, 26, 27, 28, 29, 30, 31, 32, 33]\n",
      "[0, 1, 2, 3, 4, 5, 6, 7, 8, 9, 10, 11, 12, 13, 16, 17, 19, 21, 23, 25, 24, 27, 28, 29, 26, 30, 31, 32, 14, 15, 18, 20, 22, 33]\n",
      "[16, 9, 10, 6, 3, 4, 4, 4, 5, 2, 3, 1, 2, 5, 2, 2, 2, 2, 2, 3, 2, 2, 2, 5, 3, 3, 2, 4, 3, 4, 4, 6, 12, 17]\n",
      "[(0, 16), (1, 9), (2, 10), (3, 6), (4, 3), (5, 4), (6, 4), (7, 4), (8, 5), (9, 2), (10, 3), (11, 1), (12, 2), (13, 5), (16, 2), (17, 2), (19, 3), (21, 2), (23, 5), (25, 3), (24, 3), (27, 4), (28, 3), (29, 4), (26, 2), (30, 4), (31, 6), (32, 12), (14, 2), (15, 2), (18, 2), (20, 2), (22, 2), (33, 17)]\n"
     ]
    }
   ],
   "source": [
    "# The igraph and networkx graphs have the same vertex indices (order may vary)\n",
    "\n",
    "print([v.index for v in karate.vs()])\n",
    "print(karatenx.nodes())\n",
    "\n",
    "print(karate.degree())\n",
    "print(karatenx.degree)"
   ]
  },
  {
   "cell_type": "code",
   "execution_count": null,
   "metadata": {
    "id": "ittV2mHMpDCo"
   },
   "outputs": [],
   "source": [
    "# TESTING STUFF\n",
    "\n",
    "G = ['a', 'b', 'c', 'd', 'z']\n",
    "vertices = [i for i in range(len(G))]\n",
    "edges = [('z','b'),('z','a'),(0,3),(1,0),(1,2),(1,3),(2,0),(2,1),(2,3),(3,0),(3,1),(3,2),(2,4),(4,5),(4,6),(5,4),(5,6),(6,4),(6,5)]\n",
    "\n",
    "g = nx.Graph(vertex_attrs={\"label\":vertices}, edges=edges, directed=True)"
   ]
  },
  {
   "cell_type": "code",
   "execution_count": null,
   "metadata": {
    "colab": {
     "base_uri": "https://localhost:8080/",
     "height": 320
    },
    "id": "MtneXN22aySz",
    "outputId": "f6e7a897-98ca-490d-e9dd-f9ccd51c3a86"
   },
   "outputs": [
    {
     "ename": "FileNotFoundError",
     "evalue": "ignored",
     "output_type": "error",
     "traceback": [
      "\u001b[0;31m---------------------------------------------------------------------------\u001b[0m",
      "\u001b[0;31mFileNotFoundError\u001b[0m                         Traceback (most recent call last)",
      "\u001b[0;32m<ipython-input-8-411bc1c1bd04>\u001b[0m in \u001b[0;36m<module>\u001b[0;34m()\u001b[0m\n\u001b[1;32m      1\u001b[0m \u001b[0;31m# Testing a different graph\u001b[0m\u001b[0;34m\u001b[0m\u001b[0;34m\u001b[0m\u001b[0;34m\u001b[0m\u001b[0m\n\u001b[1;32m      2\u001b[0m \u001b[0;34m\u001b[0m\u001b[0m\n\u001b[0;32m----> 3\u001b[0;31m \u001b[0mdolphins_ig\u001b[0m \u001b[0;34m=\u001b[0m \u001b[0mig\u001b[0m\u001b[0;34m.\u001b[0m\u001b[0mGraph\u001b[0m\u001b[0;34m.\u001b[0m\u001b[0mRead_GML\u001b[0m\u001b[0;34m(\u001b[0m\u001b[0;34m\"dolphins.gml\"\u001b[0m\u001b[0;34m)\u001b[0m\u001b[0;34m\u001b[0m\u001b[0;34m\u001b[0m\u001b[0m\n\u001b[0m\u001b[1;32m      4\u001b[0m \u001b[0mdolphins_nx\u001b[0m \u001b[0;34m=\u001b[0m \u001b[0mnx\u001b[0m\u001b[0;34m.\u001b[0m\u001b[0mread_gml\u001b[0m\u001b[0;34m(\u001b[0m\u001b[0;34m\"dolphins.gml\"\u001b[0m\u001b[0;34m)\u001b[0m\u001b[0;34m\u001b[0m\u001b[0;34m\u001b[0m\u001b[0m\n\u001b[1;32m      5\u001b[0m \u001b[0mprint\u001b[0m\u001b[0;34m(\u001b[0m\u001b[0;34m[\u001b[0m\u001b[0mv\u001b[0m\u001b[0;34m.\u001b[0m\u001b[0mindex\u001b[0m \u001b[0;32mfor\u001b[0m \u001b[0mv\u001b[0m \u001b[0;32min\u001b[0m \u001b[0mdolphins_ig\u001b[0m\u001b[0;34m.\u001b[0m\u001b[0mvs\u001b[0m\u001b[0;34m(\u001b[0m\u001b[0;34m)\u001b[0m\u001b[0;34m]\u001b[0m\u001b[0;34m)\u001b[0m\u001b[0;34m\u001b[0m\u001b[0;34m\u001b[0m\u001b[0m\n",
      "\u001b[0;31mFileNotFoundError\u001b[0m: [Errno 2] No such file or directory: 'dolphins.gml'"
     ]
    }
   ],
   "source": [
    "# Testing a different graph\n",
    "\n",
    "dolphins_ig = ig.Graph.Read_GML(\"dolphins.gml\")\n",
    "dolphins_nx = nx.read_gml(\"dolphins.gml\")\n",
    "print([v.index for v in dolphins_ig.vs()])\n",
    "print(dolphins_nx.nodes())"
   ]
  },
  {
   "cell_type": "markdown",
   "metadata": {
    "id": "e2WelyDDviMT"
   },
   "source": [
    "# Utility functions\n"
   ]
  },
  {
   "cell_type": "code",
   "execution_count": null,
   "metadata": {
    "colab": {
     "base_uri": "https://localhost:8080/"
    },
    "id": "wT2vz0OJYvH1",
    "outputId": "1f6b2fe6-cf75-4899-d90c-dd85907bd5c1"
   },
   "outputs": [
    {
     "name": "stdout",
     "output_type": "stream",
     "text": [
      "Degrees of all nodes: [16, 9, 10, 6, 3, 4, 4, 4, 5, 2, 3, 1, 2, 5, 2, 2, 2, 2, 2, 3, 2, 2, 2, 5, 3, 3, 2, 4, 3, 4, 4, 6, 12, 17]\n",
      "Adjacency list (neighbors of each node): [{1, 2, 3, 4, 5, 6, 7, 8, 10, 11, 12, 13, 17, 19, 21, 31}, {0, 2, 3, 7, 13, 17, 19, 21, 30}, {0, 1, 32, 3, 7, 8, 9, 13, 27, 28}, {0, 1, 2, 7, 12, 13}, {0, 10, 6}, {0, 16, 10, 6}, {0, 16, 4, 5}, {0, 1, 2, 3}, {0, 33, 2, 32, 30}, {33, 2}, {0, 4, 5}, {0}, {0, 3}, {0, 1, 2, 3, 33}, {32, 33}, {32, 33}, {5, 6}, {0, 1}, {32, 33}, {0, 1, 33}, {32, 33}, {0, 1}, {32, 33}, {32, 33, 25, 27, 29}, {25, 27, 31}, {24, 31, 23}, {33, 29}, {24, 33, 2, 23}, {33, 2, 31}, {32, 33, 26, 23}, {8, 1, 32, 33}, {0, 32, 33, 24, 25, 28}, {33, 2, 8, 14, 15, 18, 20, 22, 23, 29, 30, 31}, {32, 8, 9, 13, 14, 15, 18, 19, 20, 22, 23, 26, 27, 28, 29, 30, 31}]\n",
      "Edge list:  [(0, 1), (0, 2), (1, 2), (0, 3), (1, 3), (2, 3), (0, 4), (0, 5), (0, 6), (4, 6), (5, 6), (0, 7), (1, 7), (2, 7), (3, 7), (0, 8), (2, 8), (2, 9), (0, 10), (4, 10), (5, 10), (0, 11), (0, 12), (3, 12), (0, 13), (1, 13), (2, 13), (3, 13), (5, 16), (6, 16), (0, 17), (1, 17), (0, 19), (1, 19), (0, 21), (1, 21), (23, 25), (24, 25), (2, 27), (23, 27), (24, 27), (2, 28), (23, 29), (26, 29), (1, 30), (8, 30), (0, 31), (24, 31), (25, 31), (28, 31), (2, 32), (8, 32), (14, 32), (15, 32), (18, 32), (20, 32), (22, 32), (23, 32), (29, 32), (30, 32), (31, 32), (8, 33), (9, 33), (13, 33), (14, 33), (15, 33), (18, 33), (19, 33), (20, 33), (22, 33), (23, 33), (26, 33), (27, 33), (28, 33), (29, 33), (30, 33), (31, 33), (32, 33)]\n",
      "Max degree:  17\n",
      "Min degree:  1\n",
      "Total vertices:  34\n"
     ]
    }
   ],
   "source": [
    "# Storing these values for reuse\n",
    "\n",
    "degree_list = karate.degree()\n",
    "print(\"Degrees of all nodes:\", degree_list)\n",
    "\n",
    "adjacency_list = list(map(set, karate.get_adjlist()))\n",
    "print(\"Adjacency list (neighbors of each node):\", adjacency_list)\n",
    "\n",
    "edge_list = karate.get_edgelist()\n",
    "print(\"Edge list: \", edge_list)\n",
    "\n",
    "max_degree = max(degree_list)\n",
    "print(\"Max degree: \", max_degree)\n",
    "\n",
    "min_degree = min(degree_list)\n",
    "print(\"Min degree: \", min_degree)\n",
    "\n",
    "total_vertices = len(degree_list)\n",
    "print(\"Total vertices: \", total_vertices)"
   ]
  },
  {
   "cell_type": "code",
   "execution_count": null,
   "metadata": {
    "id": "qKU8hn9zsX52"
   },
   "outputs": [],
   "source": [
    "# To convert igraph to networkx graph \n",
    "# (using edge list of graph)\n",
    "# karate_nx_new = nx.Graph(edge_list)\n",
    "# karate_nx_new.nodes()"
   ]
  },
  {
   "cell_type": "code",
   "execution_count": null,
   "metadata": {
    "id": "0suyQdT1R_5U"
   },
   "outputs": [],
   "source": [
    "# To find list of indices of vertices of a graph\n",
    "\n",
    "def vertex_list(g):\n",
    "  v_list = [v.index for v in g.vs()]\n",
    "  return v_list\n",
    "#vertex_list(karate)"
   ]
  },
  {
   "cell_type": "code",
   "execution_count": null,
   "metadata": {
    "colab": {
     "base_uri": "https://localhost:8080/"
    },
    "id": "v5u-KLtZsjN-",
    "outputId": "b5658093-e46d-43da-9bbb-9c502a60f795"
   },
   "outputs": [
    {
     "data": {
      "text/plain": [
       "[4, 10, 19, 24, 25, 28]"
      ]
     },
     "execution_count": 12,
     "metadata": {},
     "output_type": "execute_result"
    }
   ],
   "source": [
    "# Returns a list of vertices that have a particular degree d\n",
    "\n",
    "def vertices_of_degree(g, d):\n",
    "  v_list = []\n",
    "  degree_list = g.degree()\n",
    "  for i in range(0, len(degree_list)):\n",
    "     if degree_list[i] == d: \n",
    "       v_list.append(i)\n",
    "  return v_list\n",
    "\n",
    "vertices_of_degree(karate, 3)"
   ]
  },
  {
   "cell_type": "code",
   "execution_count": null,
   "metadata": {
    "id": "v4cKJl_nUnCp"
   },
   "outputs": [],
   "source": [
    "# Giving a name attribute (has same value as the index) to vertices\n",
    "# Used later to map indices to induced subgraph\n",
    "\n",
    "name_list = []\n",
    "for i in range(0, total_vertices):\n",
    "  name_list.append(i)\n",
    "\n",
    "karate.vs[\"name\"] = [v.index for v in karate.vs()]"
   ]
  },
  {
   "cell_type": "code",
   "execution_count": null,
   "metadata": {
    "id": "TgC3rELJSxo2"
   },
   "outputs": [],
   "source": [
    "def list_diff(li1, li2):\n",
    "    return list(set(li1) - set(li2)) + list(set(li2) - set(li1))\n",
    "\n",
    "def list_common(li1, li2):\n",
    "    return list(set(li1) & set(li2))"
   ]
  },
  {
   "cell_type": "code",
   "execution_count": null,
   "metadata": {
    "colab": {
     "base_uri": "https://localhost:8080/"
    },
    "id": "mgY2MCgTMua9",
    "outputId": "b1dba64e-d552-42cb-a6f0-3058cc2cae68"
   },
   "outputs": [
    {
     "name": "stdout",
     "output_type": "stream",
     "text": [
      "[0, 16, 10, 6]\n"
     ]
    }
   ],
   "source": [
    "# To find list of nodes at given level\n",
    "# Is this function required?\n",
    "\n",
    "def level_list(g, vertex_id, level):\n",
    "  n1 = g.neighborhood(vertex_id, level)\n",
    "  n2 = g.neighborhood(vertex_id, level-1)\n",
    "  neighbors = list_diff(n1, n2)\n",
    "  return neighbors\n",
    "\n",
    "print(level_list(karate, 5, 1))"
   ]
  },
  {
   "cell_type": "code",
   "execution_count": null,
   "metadata": {
    "colab": {
     "base_uri": "https://localhost:8080/"
    },
    "id": "2Tm89btDZaDK",
    "outputId": "17546529-7d0b-44bc-e945-557fd0932e1d"
   },
   "outputs": [
    {
     "name": "stdout",
     "output_type": "stream",
     "text": [
      "[0, 1, 2, 3]\n"
     ]
    }
   ],
   "source": [
    "# To find induced subgraph of single node at a single level\n",
    "\n",
    "def level_subgraph(g, vertex_id, level):\n",
    "  n1 = g.neighborhood(vertex_id, level)\n",
    "  n2 = g.neighborhood(vertex_id, level-1)\n",
    "  neighbors = list_diff(n1, n2)\n",
    "  return g.induced_subgraph(neighbors)\n",
    "\n",
    "  # This is not required right? Not needed if we only need graph for all levels till level n and not just level n\n",
    "\n",
    "print([v.index for v in level_subgraph(karate, 30, 1).vs])"
   ]
  },
  {
   "cell_type": "code",
   "execution_count": null,
   "metadata": {
    "colab": {
     "base_uri": "https://localhost:8080/"
    },
    "id": "1s19fRQLQeCC",
    "outputId": "87aa75b5-ce64-410f-aec3-1b08a5787735"
   },
   "outputs": [
    {
     "name": "stdout",
     "output_type": "stream",
     "text": [
      "[10, 0, 4, 5]\n",
      "[10, 0, 4, 5]\n"
     ]
    }
   ],
   "source": [
    "# To find induced subgraph at a given level\n",
    "\n",
    "def level_induced_subgraph(g, vertex_id, level):\n",
    "  neighbors = g.neighborhood(vertex_id, level)\n",
    "  g_induced = g.induced_subgraph(neighbors)\n",
    "  seq = g.vs.select(neighbors)\n",
    "\n",
    "# Mapping name attribute of original graph nodes to induced subgraph nodes\n",
    "  name_list = [v[\"name\"] for v in seq]\n",
    "  g_induced.vs[\"name\"] = name_list\n",
    "\n",
    "  return g_induced\n",
    "\n",
    "\n",
    "\n",
    "# TESTING\n",
    "neighbors = karate.neighborhood(10, 1)\n",
    "names = [v[\"name\"] for v in karate.vs.select(neighbors)]\n",
    "print(names)\n",
    "\n",
    "g1 = level_induced_subgraph(karate, 10, 1)\n",
    "print([v[\"name\"] for v in g1.vs()])"
   ]
  },
  {
   "cell_type": "code",
   "execution_count": null,
   "metadata": {
    "colab": {
     "base_uri": "https://localhost:8080/"
    },
    "id": "pbKOT9ZdKuhu",
    "outputId": "d818b579-451e-4a14-e96f-962af840155c"
   },
   "outputs": [
    {
     "name": "stdout",
     "output_type": "stream",
     "text": [
      "[4, 0, 6, 10]\n",
      "[0, 1, 2, 3]\n"
     ]
    }
   ],
   "source": [
    "def check(g, v):\n",
    "  nh = g.neighborhood(v)\n",
    "  print([v.index for v in g.vs.select(nh)])\n",
    "\n",
    "  gi = g.induced_subgraph(nh)\n",
    "  print([v.index for v in gi.vs()])\n",
    "\n",
    "check(karate, 4)"
   ]
  },
  {
   "cell_type": "markdown",
   "metadata": {
    "id": "LF7lOO37qT1_"
   },
   "source": [
    "# Degree Distribution"
   ]
  },
  {
   "cell_type": "code",
   "execution_count": null,
   "metadata": {
    "colab": {
     "base_uri": "https://localhost:8080/",
     "height": 295
    },
    "id": "5XNoSFDA3jKA",
    "outputId": "1b2a6987-6be5-4cda-ee1f-5d8e8ed6b116"
   },
   "outputs": [
    {
     "data": {
      "image/png": "[encoded data removed]",
      "text/plain": [
       "<Figure size 432x288 with 1 Axes>"
      ]
     },
     "metadata": {
      "needs_background": "light"
     },
     "output_type": "display_data"
    }
   ],
   "source": [
    "def degree_distribution(g, vertex_id, level):\n",
    "  induced_g = level_subgraph(g, vertex_id, level)\n",
    "  return induced_g.degree_distribution()\n",
    "\n",
    "def degree_histogram(degree_distribution, level):\n",
    "  xs, ys = zip(*[(left, count) for left, _, count in degree_distribution.bins()])\n",
    "  pylab.bar(xs, ys)\n",
    "  pylab.xlim(0, max_degree + 1)\n",
    "  pylab.ylim(0, max_degree + 1)\n",
    "  pylab.xlabel('Degree')\n",
    "  pylab.ylabel('No. of neighbors')\n",
    "  pylab.title(str(level) + \"-Level neighbors degree distribution\")\n",
    "  pylab.show()\n",
    "\n",
    "dist = degree_distribution(karate, 32, 1)\n",
    "degree_histogram(dist, 1)"
   ]
  },
  {
   "cell_type": "code",
   "execution_count": null,
   "metadata": {
    "colab": {
     "base_uri": "https://localhost:8080/"
    },
    "id": "mbLgmVPd68tM",
    "outputId": "02a5ffb1-2102-4732-d391-428cfe18351e"
   },
   "outputs": [
    {
     "name": "stdout",
     "output_type": "stream",
     "text": [
      "N = 17, mean +- sd: 1.7647 +- 2.3057\n",
      "[ 0,  1): *** (3)\n",
      "[ 1,  2): ******** (8)\n",
      "[ 2,  3): *** (3)\n",
      "[ 3,  4): ** (2)\n",
      "[ 4,  5):  (0)\n",
      "[ 5,  6):  (0)\n",
      "[ 6,  7):  (0)\n",
      "[ 7,  8):  (0)\n",
      "[ 8,  9):  (0)\n",
      "[ 9, 10):  (0)\n",
      "[10, 11): * (1)\n",
      "{32, 8, 9, 13, 14, 15, 18, 19, 20, 22, 23, 26, 27, 28, 29, 30, 31}\n"
     ]
    }
   ],
   "source": [
    "#Testing \n",
    "\n",
    "print(degree_distribution(karate, 33, 1))\n",
    "print(adjacency_list[33])"
   ]
  },
  {
   "cell_type": "code",
   "execution_count": null,
   "metadata": {
    "colab": {
     "base_uri": "https://localhost:8080/"
    },
    "id": "Ba_Levp8OpUP",
    "outputId": "a48b7a4f-30e4-4176-8277-0d39a1d07702"
   },
   "outputs": [
    {
     "data": {
      "text/plain": [
       "[0, 1, 11, 6, 6, 3, 2, 0, 0, 1, 1, 0, 1, 0, 0, 0, 1, 1]"
      ]
     },
     "execution_count": 21,
     "metadata": {},
     "output_type": "execute_result"
    }
   ],
   "source": [
    "# Degree distribution of length = max degree in graph\n",
    "# Max degree for karate graph = 17\n",
    "\n",
    "def degree_dist(g, vertex_id, level):\n",
    "\n",
    "  # Getting neighborhood of given level (node itself not included) \n",
    "  neighbors = g.neighborhood(vertex_id, level)\n",
    "\n",
    "  # For each degree, finding the number of neighbors\n",
    "  frequency = []\n",
    "  for deg in range(0, max_degree + 1):\n",
    "    count = 0\n",
    "    for n in neighbors:\n",
    "      if (degree_list[n] == deg):\n",
    "        count = count + 1\n",
    "    frequency.append(count)\n",
    "  return frequency\n",
    "\n",
    "degree_dist(karate, 0, 3)"
   ]
  },
  {
   "cell_type": "markdown",
   "metadata": {
    "id": "Qoa8wN3aW7ra"
   },
   "source": [
    "#Single Node features"
   ]
  },
  {
   "cell_type": "code",
   "execution_count": null,
   "metadata": {
    "id": "3vig4llaXp4W"
   },
   "outputs": [],
   "source": [
    "# Single Node features derived from degree distribution\n",
    "# Reducing large array into a few features\n",
    "\n",
    "def maximum(dist):\n",
    "  return max(degree_dist)\n",
    "\n",
    "def minimum(dist):\n",
    "  return min(degree_dist)\n",
    "\n",
    "def mean(dist):\n",
    "  return mean(dist)\n",
    "\n",
    "def median(dist):\n",
    "  return median(dist)\n",
    "\n",
    "def mode(dist):\n",
    "  return mode(dist)\n",
    "\n",
    "def geometric_mean(dist):\n",
    "  return geometric_mean(dist)\n",
    "\n",
    "def harmonic_mean(dist):\n",
    "  return harmonic_mean(dist)\n",
    "\n",
    "def std_deviation(dist):\n",
    "  return stdev(dist)\n",
    "\n",
    "def population_std_deviation(dist):\n",
    "  return pstdev(dist)\n",
    "\n",
    "def variance(dist):\n",
    "  return variance(dist)\n",
    "\n",
    "def population_variance(dist):\n",
    "  return pvariance(dist)"
   ]
  },
  {
   "cell_type": "markdown",
   "metadata": {
    "id": "ydHWKQWbSahK"
   },
   "source": [
    "### K-level degree"
   ]
  },
  {
   "cell_type": "code",
   "execution_count": null,
   "metadata": {
    "colab": {
     "base_uri": "https://localhost:8080/"
    },
    "id": "_1eIU1dYGJKc",
    "outputId": "6e6d29d6-7ad6-4734-e4e7-b281540a0769"
   },
   "outputs": [
    {
     "name": "stdout",
     "output_type": "stream",
     "text": [
      "2\n",
      "2\n"
     ]
    }
   ],
   "source": [
    "def degree(g, vertex_id):\n",
    "  return degree_list[vertex_id]\n",
    "\n",
    "def k_degree(g, vertex_id, level):\n",
    "  return g.neighborhood_size(vertex_id, level) - 1\n",
    "\n",
    "print(degree(karate, 20))\n",
    "print(k_degree(karate, 20, 1))"
   ]
  },
  {
   "cell_type": "code",
   "execution_count": null,
   "metadata": {
    "colab": {
     "base_uri": "https://localhost:8080/"
    },
    "id": "TC_t4xmCI_t0",
    "outputId": "046b77e9-9063-4332-dd1e-b7831df4986e"
   },
   "outputs": [
    {
     "data": {
      "text/plain": [
       "[16, 9, 6, 4, 5, 5, 2, 2, 2, 3, 2, 2, 5, 2, 4, 3, 4, 4, 6, 12]"
      ]
     },
     "execution_count": 24,
     "metadata": {},
     "output_type": "execute_result"
    }
   ],
   "source": [
    "# How can we use this?\n",
    "# isnt this the same as degree distribution, but without putting it in the max deg form?\n",
    "\n",
    "def neighbor_degrees(g, vertex_id, level):\n",
    "  #neighborhood includes the vertex itself\n",
    "  n1 = g.neighborhood(vertex_id, level)\n",
    "  n2 = g.neighborhood(vertex_id, level-1)\n",
    "  neighbors = list_diff(n1, n2)\n",
    "  return g.degree(neighbors)\n",
    "\n",
    "neighbor_degrees(karate, 9, 2)"
   ]
  },
  {
   "cell_type": "markdown",
   "metadata": {
    "id": "uZn7hS8wShFV"
   },
   "source": [
    "### Eccentricity"
   ]
  },
  {
   "cell_type": "code",
   "execution_count": null,
   "metadata": {
    "colab": {
     "base_uri": "https://localhost:8080/"
    },
    "id": "DygRjbxiLafU",
    "outputId": "eb107fb3-c275-44f0-ad25-89a3c2abcc43"
   },
   "outputs": [
    {
     "data": {
      "text/plain": [
       "2.0"
      ]
     },
     "execution_count": 25,
     "metadata": {},
     "output_type": "execute_result"
    }
   ],
   "source": [
    "# Eccentricity of a vertex - maximum of the shortest distances from the vertex to all other vertices in the graph\n",
    "\n",
    "def eccentricity(g, vertex_id, level):\n",
    "  neighbors = g.neighborhood(vertex_id, level)\n",
    "  induced_g = g.induced_subgraph(neighbors)\n",
    "  return induced_g.eccentricity(vertex_id)\n",
    "\n",
    "eccentricity(karate, 3, 2)\n"
   ]
  },
  {
   "cell_type": "markdown",
   "metadata": {
    "id": "fY999DqFSlx9"
   },
   "source": [
    "### Number of triangles"
   ]
  },
  {
   "cell_type": "code",
   "execution_count": null,
   "metadata": {
    "colab": {
     "base_uri": "https://localhost:8080/"
    },
    "id": "T0XpsnTFb15F",
    "outputId": "0dd409af-5f9e-41bd-a099-41daf3554f43"
   },
   "outputs": [
    {
     "name": "stdout",
     "output_type": "stream",
     "text": [
      "18\n"
     ]
    }
   ],
   "source": [
    "# Networkx\n",
    "# Number of triangles a node is part of\n",
    "\n",
    "def triangles_ig(g, vertex_id, level):\n",
    "  induced_g = level_induced_subgraph(g, vertex_id, level)\n",
    "  for v in induced_g.vs():\n",
    "    if v[\"name\"] == vertex_id: \n",
    "      vertex_id_new = v.index\n",
    "  triangles = induced_g.cliques(min=3, max=3)\n",
    "  count = 0\n",
    "  for t in triangles:\n",
    "    if vertex_id_new in t: count += 1\n",
    "  return count\n",
    "\n",
    "# def triangles_nx(g, vertex_id, level):\n",
    "#   induced_g = g.subgraph(adjacency_list[vertex_id])\n",
    "#   return nx.triangles(induced_g, vertex_id)\n",
    "\n",
    "print(triangles_ig(karate, 2, 3))\n",
    "#print(triangles_nx(karatenx, 6, 4))\n"
   ]
  },
  {
   "cell_type": "markdown",
   "metadata": {
    "id": "jdSLEXHZI183"
   },
   "source": [
    "### Clique number\n"
   ]
  },
  {
   "cell_type": "code",
   "execution_count": null,
   "metadata": {
    "colab": {
     "base_uri": "https://localhost:8080/"
    },
    "id": "CMYzFZMeI4mC",
    "outputId": "9e31f40b-c0f2-4337-b235-5e8fa38f3e1a"
   },
   "outputs": [
    {
     "data": {
      "text/plain": [
       "5"
      ]
     },
     "execution_count": 27,
     "metadata": {},
     "output_type": "execute_result"
    }
   ],
   "source": [
    "def clique_num(g, vertex_id, level):\n",
    "  induced_g = level_induced_subgraph(g, vertex_id, level)\n",
    "  return induced_g.clique_number()\n",
    "\n",
    "clique_num(karate, 3, 1)"
   ]
  },
  {
   "cell_type": "markdown",
   "metadata": {
    "id": "z-WZlz3iSpZc"
   },
   "source": [
    "### Coreness"
   ]
  },
  {
   "cell_type": "code",
   "execution_count": null,
   "metadata": {
    "colab": {
     "base_uri": "https://localhost:8080/"
    },
    "id": "hhMZlll1Uk16",
    "outputId": "b7d05734-d60f-4918-d901-71d81e959311"
   },
   "outputs": [
    {
     "name": "stdout",
     "output_type": "stream",
     "text": [
      "[10, 0, 4, 5, 1, 2, 3, 6, 7, 8, 11, 12, 13, 17, 19, 21, 31, 16]\n",
      "[10, 0, 4, 5, 1, 2, 3, 6, 7, 8, 11, 12, 13, 17, 19, 21, 31, 16]\n",
      "[0, 1, 2, 3, 4, 5, 6, 7, 8, 9, 10, 11, 12, 13, 14, 15, 16, 17]\n",
      "[0, 1, 2, 3, 4, 5, 6, 7, 8, 10, 11, 12, 13, 16, 17, 19, 21, 31]\n",
      "old id: 10\n",
      "new id: 9\n"
     ]
    },
    {
     "data": {
      "text/plain": [
       "3"
      ]
     },
     "execution_count": 28,
     "metadata": {},
     "output_type": "execute_result"
    }
   ],
   "source": [
    "# Coreness of a vertex is k if it is a member of the k-core but not a member of the k+1-core.\n",
    "\n",
    "def coreness(g, vertex_id, level):\n",
    "\n",
    "  # k-level Neighbors\n",
    "  neighbors = g.neighborhood(vertex_id, level)\n",
    "  print([v.index for v in g.vs.select(neighbors)])\n",
    "  print([v[\"name\"] for v in g.vs.select(neighbors)])\n",
    "\n",
    "  # Induced subgraph\n",
    "  induced_g = g.induced_subgraph(neighbors)\n",
    "  coreness_list = induced_g.coreness('all')\n",
    "  print([v.index for v in induced_g.vs()])\n",
    "  print([v[\"name\"] for v in induced_g.vs()])\n",
    "\n",
    "  # Finding new vertex index value in subgraph\n",
    "  for v in induced_g.vs():\n",
    "    if v[\"name\"] == vertex_id: \n",
    "      vertex_id_new = v.index\n",
    "      print(\"old id:\", vertex_id)\n",
    "      print(\"new id:\", vertex_id_new)\n",
    "\n",
    "  return coreness_list[vertex_id_new]\n",
    "  \n",
    "coreness(karate, 10, 2) "
   ]
  },
  {
   "cell_type": "markdown",
   "metadata": {
    "id": "urARLlEkSuAx"
   },
   "source": [
    "### Betweenness centrality"
   ]
  },
  {
   "cell_type": "code",
   "execution_count": null,
   "metadata": {
    "colab": {
     "base_uri": "https://localhost:8080/"
    },
    "id": "Boz_IJy_WuQw",
    "outputId": "cbaab7f5-8faa-4b44-969c-5003ff084e7e"
   },
   "outputs": [
    {
     "data": {
      "text/plain": [
       "0.5"
      ]
     },
     "execution_count": 29,
     "metadata": {},
     "output_type": "execute_result"
    }
   ],
   "source": [
    "def betweenness_centrality(g, vertex_id, level):\n",
    "  induced_g = level_induced_subgraph(g, vertex_id, level)\n",
    "  for v in induced_g.vs():\n",
    "    if v[\"name\"] == vertex_id: \n",
    "      vertex_id_new = v.index\n",
    "  return induced_g.betweenness(vertex_id_new)\n",
    "\n",
    "betweenness_centrality(karate, 4, 1)"
   ]
  },
  {
   "cell_type": "markdown",
   "metadata": {
    "id": "gatGwrjtS07j"
   },
   "source": [
    "### Closeness centrality"
   ]
  },
  {
   "cell_type": "code",
   "execution_count": null,
   "metadata": {
    "colab": {
     "base_uri": "https://localhost:8080/"
    },
    "id": "2QQq2sAELepA",
    "outputId": "4af7cb59-efaf-4a34-e959-0e9a01316a17"
   },
   "outputs": [
    {
     "data": {
      "text/plain": [
       "0.5689655172413793"
      ]
     },
     "execution_count": 30,
     "metadata": {},
     "output_type": "execute_result"
    }
   ],
   "source": [
    "def closeness_centrality(g, vertex_id, level):\n",
    "  induced_g = level_induced_subgraph(g, vertex_id, level)\n",
    "  for v in induced_g.vs():\n",
    "    if v[\"name\"] == vertex_id: \n",
    "      vertex_id_new = v.index\n",
    "  return induced_g.closeness(vertex_id_new)\n",
    "  \n",
    "closeness_centrality(karate, 3, 6) "
   ]
  },
  {
   "cell_type": "markdown",
   "metadata": {
    "id": "WP7mwuHIS4ez"
   },
   "source": [
    "### Harmonic centrality"
   ]
  },
  {
   "cell_type": "code",
   "execution_count": null,
   "metadata": {
    "colab": {
     "base_uri": "https://localhost:8080/"
    },
    "id": "Wy0obSP0rsoj",
    "outputId": "c6565910-ff93-4495-bd63-f9b2a37b6955"
   },
   "outputs": [
    {
     "data": {
      "text/plain": [
       "0.7020202020202018"
      ]
     },
     "execution_count": 31,
     "metadata": {},
     "output_type": "execute_result"
    }
   ],
   "source": [
    "def harmonic_centrality(g, vertex_id, level):\n",
    "  induced_g = level_induced_subgraph(g, vertex_id, level)\n",
    "  for v in induced_g.vs():\n",
    "    if v[\"name\"] == vertex_id: \n",
    "      vertex_id_new = v.index\n",
    "  return induced_g.harmonic_centrality(vertex_id_new)\n",
    "\n",
    "harmonic_centrality(karate, 3, 4) "
   ]
  },
  {
   "cell_type": "markdown",
   "metadata": {
    "id": "E4l5OhTNS-3J"
   },
   "source": [
    "### Eigenvector centrality"
   ]
  },
  {
   "cell_type": "code",
   "execution_count": null,
   "metadata": {
    "colab": {
     "base_uri": "https://localhost:8080/"
    },
    "id": "hgABvWxmrs3y",
    "outputId": "398e7072-02ea-48b5-94a4-e951221d8aab"
   },
   "outputs": [
    {
     "data": {
      "text/plain": [
       "0.8406653218024884"
      ]
     },
     "execution_count": 32,
     "metadata": {},
     "output_type": "execute_result"
    }
   ],
   "source": [
    "def eigenvector_centrality(g, vertex_id, level):\n",
    "  induced_g = level_induced_subgraph(g, vertex_id, level)\n",
    "  for v in induced_g.vs():\n",
    "    if v[\"name\"] == vertex_id: \n",
    "      vertex_id_new = v.index\n",
    "\n",
    "  # Centralities are normalized such that the maximum one is always equal to 1\n",
    "  eigen_list = induced_g.eigenvector_centrality(True, True)\n",
    "  return eigen_list[vertex_id_new]\n",
    "\n",
    "eigenvector_centrality(karate, 6, 1) "
   ]
  },
  {
   "cell_type": "markdown",
   "metadata": {
    "id": "U9-UeHRrTeUH"
   },
   "source": [
    "### Decay Centrality\n",
    "![image.png](data:image/png;base64,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)"
   ]
  },
  {
   "cell_type": "code",
   "execution_count": null,
   "metadata": {
    "colab": {
     "base_uri": "https://localhost:8080/"
    },
    "id": "Keey6ulArtD2",
    "outputId": "92df9635-1b0b-4c07-c916-859d701d112a"
   },
   "outputs": [
    {
     "data": {
      "text/plain": [
       "10.875"
      ]
     },
     "execution_count": 33,
     "metadata": {},
     "output_type": "execute_result"
    }
   ],
   "source": [
    "# Need to verify!!\n",
    "\n",
    "def decay_centrality(g, vertex_id, level):\n",
    "  induced_g = level_induced_subgraph(g, vertex_id, level)\n",
    "  for v in induced_g.vs():\n",
    "    if v[\"name\"] == vertex_id: vertex_id_new = v.index\n",
    "\n",
    "  distances = []\n",
    "  for i in g.neighborhood(vertex_id, level):\n",
    "    if vertex_id_new == i: continue\n",
    "    else: distances.append(g.shortest_paths(vertex_id, i)[0][0])\n",
    "\n",
    "  delta = 0.5 # Which value to choose? (0<delta<1)\n",
    "  return sum([delta**d for d in distances])\n",
    "\n",
    "decay_centrality(karate, 2, 4)\n",
    "\n",
    "# how are we doing it for just the given node? other centralities are for all neighbours array? should we have nestled loops?"
   ]
  },
  {
   "cell_type": "code",
   "execution_count": null,
   "metadata": {
    "colab": {
     "base_uri": "https://localhost:8080/"
    },
    "id": "KpGgQvqULnoG",
    "outputId": "7b3556c4-005b-430c-9fe3-f52091014a9b"
   },
   "outputs": [
    {
     "name": "stdout",
     "output_type": "stream",
     "text": [
      "[10, 0, 4, 5]\n"
     ]
    }
   ],
   "source": [
    "print([v for v in karate.neighborhood(10)])"
   ]
  },
  {
   "cell_type": "markdown",
   "metadata": {
    "id": "s4EmrZOuTpsk"
   },
   "source": [
    "### PageRank Centrality"
   ]
  },
  {
   "cell_type": "code",
   "execution_count": null,
   "metadata": {
    "colab": {
     "base_uri": "https://localhost:8080/"
    },
    "id": "qvuta3kgt1Nh",
    "outputId": "3f643a03-1064-44e5-d1b1-b085318f458a"
   },
   "outputs": [
    {
     "data": {
      "text/plain": [
       "0.24592781858831045"
      ]
     },
     "execution_count": 33,
     "metadata": {},
     "output_type": "execute_result"
    }
   ],
   "source": [
    "# PageRank centrality - the fraction of time a random walker traversing the graph would spend on that vertex\n",
    "\n",
    "def pagerank(g, vertex_id, level):\n",
    "  induced_g = level_induced_subgraph(g, vertex_id, level)\n",
    "  for v in induced_g.vs():\n",
    "    if v[\"name\"] == vertex_id: \n",
    "      vertex_id_new = v.index\n",
    "  return induced_g.pagerank(vertex_id_new)\n",
    "\n",
    "pagerank(karate, 19, 1) "
   ]
  },
  {
   "cell_type": "markdown",
   "metadata": {
    "id": "CYMQk04vZG-O"
   },
   "source": [
    "### Katz Centrality"
   ]
  },
  {
   "cell_type": "code",
   "execution_count": null,
   "metadata": {
    "colab": {
     "base_uri": "https://localhost:8080/"
    },
    "id": "jgG9b6dwZGQl",
    "outputId": "48a40a08-4f51-452f-e0e7-ef62174ef50b"
   },
   "outputs": [
    {
     "data": {
      "text/plain": [
       "0.1309722793286492"
      ]
     },
     "execution_count": 34,
     "metadata": {},
     "output_type": "execute_result"
    }
   ],
   "source": [
    "# Networkx\n",
    "# Need to add levels!!\n",
    "def katz_centrality(g, vertex_id):\n",
    "  return nx.katz_centrality(g, alpha=0.1, beta=1.0)[vertex_id]\n",
    "\n",
    "katz_centrality(karatenx, 5)"
   ]
  },
  {
   "cell_type": "markdown",
   "metadata": {
    "id": "BvgJcY152d__"
   },
   "source": [
    "### Average Centrality distribution"
   ]
  },
  {
   "cell_type": "code",
   "execution_count": null,
   "metadata": {
    "colab": {
     "base_uri": "https://localhost:8080/"
    },
    "id": "3apR6W69n_su",
    "outputId": "5b6d939a-12f6-4285-ad17-15909171abe1"
   },
   "outputs": [
    {
     "name": "stdout",
     "output_type": "stream",
     "text": [
      "[0.9521323664766564, 0.9521323664766568, 0.9521323664766563, 0.9521323664766559, inf, 0.9521323664766561, inf, 0.9521323664766568, inf, inf, inf, inf, inf, inf, inf, 0.9521323664766569, inf]\n"
     ]
    }
   ],
   "source": [
    "def avg_centrality_nbd_dist(g, vertex_id, level, function): \n",
    "\n",
    "  avg_centrality_dist = []\n",
    "\n",
    "  centrality_list = []  # Will have centrality (katz, eigen etc. depending on input function) of each neighbor\n",
    "  neighbors = g.neighborhood(vertex_id, level)\n",
    "  for v in g.vs.select(neighbors):\n",
    "    centrality_list.append(function(g, v.index, max_degree))\n",
    "\n",
    "  induced_g = level_induced_subgraph(g, vertex_id, level)\n",
    "\n",
    "  for i in range(1, max_degree + 1):\n",
    "    sum = 0\n",
    "    v_list = vertices_of_degree(induced_g, i)\n",
    "    for v in v_list:\n",
    "      sum = sum + centrality_list[v]\n",
    "\n",
    "    if len(v_list)!= 0:\n",
    "      avg_centrality = sum/len(v_list)\n",
    "    else: avg_centrality = math.inf\n",
    "    avg_centrality_dist.append(avg_centrality)\n",
    "\n",
    "  return avg_centrality_dist\n",
    "\n",
    "print(avg_centrality_nbd_dist(karate, 0, 1, eigenvector_centrality))\n"
   ]
  },
  {
   "cell_type": "code",
   "execution_count": null,
   "metadata": {
    "colab": {
     "base_uri": "https://localhost:8080/"
    },
    "id": "uxVsRuXckInl",
    "outputId": "99d44ea7-a614-4b9c-b5d9-ade1946dd09d"
   },
   "outputs": [
    {
     "name": "stdout",
     "output_type": "stream",
     "text": [
      "[0.9521323664766566, 0.9521323664766566, 0.9521323664766564, 0.9521323664766567, 0.9521323664766563, 0.9521323664766566, inf, inf, 0.952132366476657, 0.9521323664766569, inf, 0.952132366476657, inf, inf, inf, 0.952132366476656, 0.9521323664766561]\n"
     ]
    }
   ],
   "source": [
    "# Like degree distribution, but we replace number of vertices with the average centrality of those vertices\n",
    "# Returns a vector of length = max_degree\n",
    "# Feature of the entire graph\n",
    "\n",
    "def avg_centrality_dist(g, function): \n",
    "\n",
    "  avg_centrality_dist = [] # Will have the average centrality value for vertices of each degree\n",
    "\n",
    "  centrality_list = []  # Will have centrality (katz, eigen etc. depending on input function) of each vertex\n",
    "  for v in g.vs():\n",
    "    centrality_list.append(function(g, v.index, max_degree))\n",
    "\n",
    "  for i in range(1, max_degree + 1):\n",
    "    sum = 0\n",
    "    v_list = vertices_of_degree(g, i)\n",
    "    for v in v_list:\n",
    "      sum = sum + centrality_list[v]\n",
    "\n",
    "    if len(v_list)!= 0:\n",
    "      avg_centrality = sum/len(v_list)\n",
    "    else: avg_centrality = math.inf\n",
    "    avg_centrality_dist.append(avg_centrality)\n",
    "\n",
    "  return avg_centrality_dist\n",
    "\n",
    "print(avg_centrality_dist(karate, eigenvector_centrality))\n"
   ]
  },
  {
   "cell_type": "markdown",
   "metadata": {
    "id": "JXhSdnK3UGqn"
   },
   "source": [
    "### Local clustering coefficient"
   ]
  },
  {
   "cell_type": "code",
   "execution_count": null,
   "metadata": {
    "colab": {
     "base_uri": "https://localhost:8080/"
    },
    "id": "Zl8UmzEpukxC",
    "outputId": "e9db0d0e-8034-4b7d-8025-60c930ebb694"
   },
   "outputs": [
    {
     "name": "stdout",
     "output_type": "stream",
     "text": [
      "0.15\n"
     ]
    }
   ],
   "source": [
    "# Probability that two neighbors of a vertex are connected\n",
    "\n",
    "def local_clustering_coeff_ig(g, vertex_id, level):\n",
    "  induced_g = level_induced_subgraph(g, vertex_id, level)\n",
    "  for v in induced_g.vs():\n",
    "    if v[\"name\"] == vertex_id: \n",
    "      vertex_id_new = v.index\n",
    "  return induced_g.transitivity_local_undirected(mode='zero')[vertex_id_new]\n",
    "  \n",
    "print(local_clustering_coeff_ig(karate, 23, 6))\n",
    "\n",
    "# def local_clustering_coeff_nx(g, vertex_id, level):\n",
    "#   # Induced Subgraph to be added\n",
    "#   return nx.clustering(g, vertex_id)\n",
    "# print(local_clustering_coeff_nx(karatenx , 8, 1)) "
   ]
  },
  {
   "cell_type": "markdown",
   "metadata": {
    "id": "xK7xYVt8T-oD"
   },
   "source": [
    "### Global clustering coefficient"
   ]
  },
  {
   "cell_type": "code",
   "execution_count": null,
   "metadata": {
    "colab": {
     "base_uri": "https://localhost:8080/"
    },
    "id": "AKABbX8she4x",
    "outputId": "25ae864b-853d-4b14-e172-ec771809faef"
   },
   "outputs": [
    {
     "data": {
      "text/plain": [
       "0.2556818181818182"
      ]
     },
     "execution_count": 38,
     "metadata": {},
     "output_type": "execute_result"
    }
   ],
   "source": [
    "#The ratio of the triangles and connected triplets in the graph\n",
    "\n",
    "def global_clustering_coeff(g, vertex_id, level):\n",
    "  induced_g = level_induced_subgraph(g, vertex_id, level)\n",
    "  return induced_g.transitivity_undirected(mode='zero')\n",
    "\n",
    "global_clustering_coeff(karate, 23, 6)"
   ]
  },
  {
   "cell_type": "markdown",
   "metadata": {
    "id": "4Ya6-kt7T4jB"
   },
   "source": [
    "### Structural diversity index"
   ]
  },
  {
   "cell_type": "code",
   "execution_count": null,
   "metadata": {
    "colab": {
     "base_uri": "https://localhost:8080/"
    },
    "id": "NPzNGXM20uRp",
    "outputId": "ce94f892-7cd8-430c-8653-ecc04cead142"
   },
   "outputs": [
    {
     "data": {
      "text/plain": [
       "1.0"
      ]
     },
     "execution_count": 39,
     "metadata": {},
     "output_type": "execute_result"
    }
   ],
   "source": [
    "def shannon_diversity(g, vertex_id, level):\n",
    "  induced_g = level_induced_subgraph(g, vertex_id, level)\n",
    "  for v in induced_g.vs():\n",
    "    if v[\"name\"] == vertex_id: \n",
    "      vertex_id_new = v.index\n",
    "  return induced_g.diversity(vertex_id_new)\n",
    "\n",
    "shannon_diversity(karate, 32, 5) \n",
    "# Always returns 0 for level 1, 1 for level > 1... Why??"
   ]
  },
  {
   "cell_type": "markdown",
   "metadata": {
    "id": "JlJx3jGJT0E-"
   },
   "source": [
    "### H-index"
   ]
  },
  {
   "cell_type": "code",
   "execution_count": null,
   "metadata": {
    "colab": {
     "base_uri": "https://localhost:8080/"
    },
    "id": "LA9mBdff2FEy",
    "outputId": "7c130974-9027-45d3-9745-e45fb73c6145"
   },
   "outputs": [
    {
     "data": {
      "text/plain": [
       "5"
      ]
     },
     "execution_count": 40,
     "metadata": {},
     "output_type": "execute_result"
    }
   ],
   "source": [
    "# Networkx\n",
    "# If x neighbours of a node have degree of atleast x, then the H-index of that node is x\n",
    "# Need to add level!!\n",
    "def _h_index_helper(iterable, sorted=False):\n",
    "    if not isinstance(iterable, list):\n",
    "        iterable = list(iterable)\n",
    "    if not sorted:\n",
    "        iterable.sort()\n",
    "\n",
    "    value_count = len(iterable)\n",
    "    for index, value in enumerate(iterable):\n",
    "        result = value_count - index\n",
    "        if result <= value:\n",
    "            return result\n",
    "    return 0\n",
    "\n",
    "def H_index(g, vertex_id):\n",
    "  \n",
    "  neighbors = list(g.neighbors(vertex_id))\n",
    "  degrees = list(degree for n, degree in g.degree(neighbors))\n",
    "  return _h_index_helper(degrees) \n",
    "\n",
    "H_index(karatenx, 0)"
   ]
  },
  {
   "cell_type": "markdown",
   "metadata": {
    "id": "Wh7CPUvCTu_Q"
   },
   "source": [
    "### Neighborhood Density"
   ]
  },
  {
   "cell_type": "code",
   "execution_count": null,
   "metadata": {
    "colab": {
     "base_uri": "https://localhost:8080/"
    },
    "id": "Y2tBAsCViTHh",
    "outputId": "1d37cc1b-2fe0-4946-c700-e8e4a8eec675"
   },
   "outputs": [
    {
     "data": {
      "text/plain": [
       "0.2222222222222222"
      ]
     },
     "execution_count": 41,
     "metadata": {},
     "output_type": "execute_result"
    }
   ],
   "source": [
    "def neighborhood_density(g, vertex_id, level):\n",
    "  induced_g = level_induced_subgraph(g, vertex_id, level)\n",
    "  return induced_g.density()\n",
    "\n",
    "neighborhood_density(karate, 15, 2)"
   ]
  },
  {
   "cell_type": "markdown",
   "metadata": {
    "id": "McpXQmlba3GP"
   },
   "source": [
    "# Node Pair Features"
   ]
  },
  {
   "cell_type": "markdown",
   "metadata": {
    "id": "z2zgxtJVwCfH"
   },
   "source": [
    "### Directly connected?"
   ]
  },
  {
   "cell_type": "code",
   "execution_count": null,
   "metadata": {
    "id": "lEDqFTtoLrzd"
   },
   "outputs": [],
   "source": [
    "# Returns 1 if the 2 nodes are directly connected, else returns 0\n",
    "\n",
    "def are_connected(g, v1, v2):\n",
    "  if (g.are_connected(v1, v2) == True): return 1\n",
    "  else: return 0"
   ]
  },
  {
   "cell_type": "markdown",
   "metadata": {
    "id": "MmeFQqxVv_OW"
   },
   "source": [
    "### Path exists?"
   ]
  },
  {
   "cell_type": "code",
   "execution_count": null,
   "metadata": {
    "colab": {
     "base_uri": "https://localhost:8080/"
    },
    "id": "M71eS6CzoVN6",
    "outputId": "3d43b81c-ea90-4308-bb89-dbd6406462a2"
   },
   "outputs": [
    {
     "data": {
      "text/plain": [
       "1"
      ]
     },
     "execution_count": 43,
     "metadata": {},
     "output_type": "execute_result"
    }
   ],
   "source": [
    "# Returns 1 if path connects the 2 nodes, else returns 0\n",
    "\n",
    "# def path_exists_ig(g, v1, v2):\n",
    "#   paths = g.get_all_simple_paths(v1, v2)\n",
    "#   print(paths)\n",
    "\n",
    "def path_exists_nx(g, v1, v2):\n",
    "  paths = []\n",
    "  for path in nx.all_simple_paths(g, source = v1, target = v2):\n",
    "    paths.append(path)\n",
    "    if len(paths) >= 1: return 1\n",
    "  return 0\n",
    "path_exists_nx(karatenx, 2, 31)"
   ]
  },
  {
   "cell_type": "markdown",
   "metadata": {
    "id": "kbDqELkfv7w1"
   },
   "source": [
    "### Number of simple paths"
   ]
  },
  {
   "cell_type": "code",
   "execution_count": null,
   "metadata": {
    "colab": {
     "base_uri": "https://localhost:8080/"
    },
    "id": "_fxz1NRV9-zd",
    "outputId": "96233a72-afbe-413e-fec8-aeda53950477"
   },
   "outputs": [
    {
     "name": "stdout",
     "output_type": "stream",
     "text": [
      "80137\n",
      "80137\n"
     ]
    }
   ],
   "source": [
    "# Number of simple paths connecting the 2 nodes\n",
    "\n",
    "def total_simple_paths_nx(g, v1, v2):\n",
    "  paths = nx.all_simple_paths(g, source = v1, target = v2)\n",
    "  return len(list(paths))\n",
    "\n",
    "print(total_simple_paths_nx(karatenx, 1, 0))\n",
    "\n",
    "# igraph function runs very slowly\n",
    "def total_simple_paths_ig(g, v1, v2):\n",
    "  paths = g.get_all_simple_paths(v1, v2)\n",
    "  return len(list(paths))\n",
    "\n",
    "print(total_simple_paths_ig(karate, 1, 0))"
   ]
  },
  {
   "cell_type": "markdown",
   "metadata": {
    "id": "Jg1C5HWgv0vo"
   },
   "source": [
    "### Shortest path length"
   ]
  },
  {
   "cell_type": "code",
   "execution_count": null,
   "metadata": {
    "colab": {
     "base_uri": "https://localhost:8080/"
    },
    "id": "FT8hkDJ_OlUD",
    "outputId": "b60beb6c-3967-4871-88af-631ae8cdfcce"
   },
   "outputs": [
    {
     "name": "stdout",
     "output_type": "stream",
     "text": [
      "3\n",
      "3\n"
     ]
    }
   ],
   "source": [
    "#Should we include level of neighborhood?\n",
    "\n",
    "def shortest_path_ig(g, v1, v2):\n",
    "  return g.shortest_paths(v1, v2)[0][0]\n",
    "\n",
    "from itertools import islice\n",
    "def shortest_path_nx(g, source, target, weight=None):\n",
    "  path = list(islice(nx.shortest_simple_paths(g, source, target, weight=weight), 1))\n",
    "  return len(path[0]) - 1\n",
    "\n",
    "print(shortest_path_ig(karate, 0, 29))\n",
    "print(shortest_path_nx(karatenx, 0, 29))\n"
   ]
  },
  {
   "cell_type": "markdown",
   "metadata": {
    "id": "OyWnhVo8vw2u"
   },
   "source": [
    "### Number of common triangles"
   ]
  },
  {
   "cell_type": "code",
   "execution_count": null,
   "metadata": {
    "colab": {
     "base_uri": "https://localhost:8080/"
    },
    "id": "h0WtI6Cx93P3",
    "outputId": "c9465e3d-0c4c-40ac-ae75-027c121e3625"
   },
   "outputs": [
    {
     "name": "stdout",
     "output_type": "stream",
     "text": [
      "7\n"
     ]
    }
   ],
   "source": [
    "# Networkx\n",
    "# Number of triangles both vertices are part of\n",
    "\n",
    "def common_triangles_ig(g, v1, v2):\n",
    "  cliques = g.cliques(min=3,max=3)\n",
    "  v1_cliques = []\n",
    "  v2_cliques = []\n",
    "  for t in cliques:\n",
    "    if v1 in t: v1_cliques.append(t)\n",
    "    if v2 in t: v2_cliques.append(t)\n",
    "  common_cliques = list_common(v1_cliques, v2_cliques)\n",
    "  return len(common_cliques)   # Need to verify!!\n",
    "\n",
    "print(common_triangles_ig (karate, 0, 1))\n",
    "\n",
    "def common_triangles_nx(g, v1, v2):\n",
    "  t1 = nx.triangles(g, v1)\n",
    "  t2 = nx.triangles(g, v2)        # mistake: only gives number of triangles not the cliques\n",
    "  #return list_common(t1,t2)\n",
    "\n",
    "common_triangles_nx (karatenx, 1, 4)"
   ]
  },
  {
   "cell_type": "markdown",
   "metadata": {
    "id": "Hfpbu_gLwImI"
   },
   "source": [
    "### Common neighbors (k-level)"
   ]
  },
  {
   "cell_type": "code",
   "execution_count": null,
   "metadata": {
    "colab": {
     "base_uri": "https://localhost:8080/"
    },
    "id": "dKXT8REyZ6wl",
    "outputId": "e586c78e-3a6d-445c-f4c4-232737cfe2e4"
   },
   "outputs": [
    {
     "name": "stdout",
     "output_type": "stream",
     "text": [
      "30\n"
     ]
    }
   ],
   "source": [
    "# Number of k-level common neighbors\n",
    "\n",
    "def common_neighbors(g, v1, v2, level):\n",
    "  nh1 = g.neighborhood(v1, level)\n",
    "  nh2 = g.neighborhood(v2, level)\n",
    "  common_neighbors = list_common(nh1, nh2)\n",
    "  return len(common_neighbors)\n",
    "\n",
    "print(common_neighbors(karate, 8, 2, 2))\n",
    "\n",
    "# def common_neighbors(g, v1, v2):\n",
    "#   common = adjlist[v1].intersection(adjlist[v2])\n",
    "#   return len(common)\n",
    "# print(common_neighbors(karate, 8, 3))\n",
    "\n",
    "# #Use g.neighborhood(v1, level) instead?\n",
    "# def common_neighbors_second(g, v1, v2):\n",
    "#   nh1 = adjlist[v1]\n",
    "#   nh1_second = []\n",
    "#   for node in nh1:\n",
    "#     for subnode in adjlist[node]:\n",
    "#       nh1_second.append(subnode)\n",
    "#   nh2 = adjlist[v2]\n",
    "#   nh2_second = []\n",
    "#   for node in nh2:\n",
    "#     for subnode in adjlist[node]:\n",
    "#       nh2_second.append(subnode)\n",
    "#   common = set(nh1_second).intersection(set(nh2_second))\n",
    "#   print(common)\n",
    "#   return len(common)\n",
    "#print(common_neighbors_second(karate, 8, 2))"
   ]
  },
  {
   "cell_type": "markdown",
   "metadata": {
    "id": "zFl62Wn3wMQ1"
   },
   "source": [
    "### Cosine Similarity"
   ]
  },
  {
   "cell_type": "code",
   "execution_count": null,
   "metadata": {
    "colab": {
     "base_uri": "https://localhost:8080/"
    },
    "id": "keHB0BKPqW6v",
    "outputId": "c5c4b0e6-263e-4aed-b1f6-a52ba292ebaf"
   },
   "outputs": [
    {
     "name": "stdout",
     "output_type": "stream",
     "text": [
      "0.8853067919890985\n",
      "0.8853067919890985\n",
      "0.8853067919890985\n"
     ]
    }
   ],
   "source": [
    "# Using the degree_dist function to create 2 vectors\n",
    "\n",
    "# Method 1\n",
    "from scipy import spatial\n",
    "def cosine_similarity1(g, v1, v2, level, func):\n",
    "  a = func(g, v1, level)\n",
    "  b = func(g, v2, level)\n",
    "  return 1 - spatial.distance.cosine(a, b)\n",
    "\n",
    "# Method 2\n",
    "from numpy import dot\n",
    "from numpy.linalg import norm\n",
    "def cosine_similarity2(g, v1, v2, level, func):\n",
    "  a = func(g, v1, level)\n",
    "  b = func(g, v2, level)\n",
    "  cos_sim = dot(a, b)/(norm(a)*norm(b))\n",
    "  return cos_sim\n",
    "\n",
    "# Method 3\n",
    "from sklearn.metrics.pairwise import cosine_similarity\n",
    "def cosine_similarity3(g, v1, v2, level, func):\n",
    "  a = func(g, v1, level)\n",
    "  b = func(g, v2, level)\n",
    "  return cosine_similarity([a], [b])[0][0]\n",
    "\n",
    "# # Method 4\n",
    "# def cosine_similarity4(g, v1, v2, level, func):\n",
    "#   l1 = func(g, v1, level)\n",
    "#   l2 = func(g , v2, level)\n",
    "#   c = 0\n",
    "#   for i in range(len(l1)):\n",
    "#         c+= l1[i]*l2[i]\n",
    "#   return c / float((sum(l1)*sum(l2))**0.5)   # INCORRECT ANS\n",
    "\n",
    "\n",
    "print(cosine_similarity1(karate, 4, 18, 2, degree_dist))\n",
    "print(cosine_similarity2(karate, 4, 18, 2, degree_dist))\n",
    "print(cosine_similarity3(karate, 4, 18, 2, degree_dist))\n",
    "#print(cosine_similarity4(karate, 4, 18, 2, degree_dist))"
   ]
  },
  {
   "cell_type": "markdown",
   "metadata": {
    "id": "4C4WuP5ewP4-"
   },
   "source": [
    "### Pearson Similarity"
   ]
  },
  {
   "cell_type": "code",
   "execution_count": null,
   "metadata": {
    "colab": {
     "base_uri": "https://localhost:8080/"
    },
    "id": "xW4bpGFeqeYV",
    "outputId": "def40a72-1333-4479-8390-193bba2903d9"
   },
   "outputs": [
    {
     "name": "stdout",
     "output_type": "stream",
     "text": [
      "0.39288982693292346\n",
      "0.3928898269329235\n"
     ]
    }
   ],
   "source": [
    "# Method 1\n",
    "from scipy.stats import pearsonr\n",
    "def pearson_similarity1(g, v1, v2, level, func):\n",
    "  a = func(g, v1, level)\n",
    "  b = func(g, v2, level)\n",
    "  return pearsonr(a, b)[0]\n",
    "\n",
    "# Method 2\n",
    "import numpy\n",
    "def pearson_similarity2(g, v1, v2, level, func):\n",
    "  a = func(g, v1, level)\n",
    "  b = func(g, v2, level)\n",
    "  return numpy.corrcoef(a, b)[0, 1]\n",
    "\n",
    "# # Method 3\n",
    "# from statistics import mean, stdev\n",
    "# def pearson_similarity3(g, v1, v2, level, func):\n",
    "#   n1 = func(g, v1, level)\n",
    "#   n2 = func(g, v2, level)  \n",
    "#   # finding mean and standard deviation for both the lists\n",
    "#   u_mean = mean(n1)\n",
    "#   v_mean = mean(n2)\n",
    "#   u_stdv = stdev(n1)\n",
    "#   v_stdv = stdev(n2)\n",
    "#   # for finding varience of the data points\n",
    "#   for i in range(len(n1)):\n",
    "#     n1[i] = n1[i] - u_mean\n",
    "#   for i in range(len(n2)):\n",
    "#     n2[i] = n2[i] - v_mean\n",
    "#   #  sum of product of variances\n",
    "#   vector_sum = 0\n",
    "#   for i in range(len(n1)):\n",
    "#     vector_sum += n1[i] * n2[i]\n",
    "#   #  denominator: prod of indivisual std devs \n",
    "#   stdv_product = u_stdv * v_stdv\n",
    "#   return vector_sum/ stdv_product        # INCORRECT ANS\n",
    "\n",
    "print(pearson_similarity1(karate, 2, 4, 1, degree_dist))\n",
    "print(pearson_similarity2(karate, 2, 4, 1, degree_dist))\n",
    "#print(pearson_similarity3(karate, 2, 4, 1, degree_dist))"
   ]
  },
  {
   "cell_type": "markdown",
   "metadata": {
    "id": "Wpc-k4TlwSZL"
   },
   "source": [
    "### Euclidean distance"
   ]
  },
  {
   "cell_type": "code",
   "execution_count": null,
   "metadata": {
    "colab": {
     "base_uri": "https://localhost:8080/"
    },
    "id": "z6qDJAjiqju2",
    "outputId": "11b6a5f6-83ee-4c63-8446-f168fd0dd15b"
   },
   "outputs": [
    {
     "data": {
      "text/plain": [
       "2.0"
      ]
     },
     "execution_count": 50,
     "metadata": {},
     "output_type": "execute_result"
    }
   ],
   "source": [
    "def euclidean_distance(g, v1, v2, level, func):\n",
    "  a = func(g, v1, level)\n",
    "  b = func(g, v2, level)\n",
    "  return sqrt(sum((e1-e2)**2 for e1, e2 in zip(a,b)))\n",
    "\n",
    "euclidean_distance(karate, 2, 3, 1, degree_dist)"
   ]
  },
  {
   "cell_type": "markdown",
   "metadata": {
    "id": "_djveog7wVxg"
   },
   "source": [
    "### Manhattan distance"
   ]
  },
  {
   "cell_type": "code",
   "execution_count": null,
   "metadata": {
    "colab": {
     "base_uri": "https://localhost:8080/"
    },
    "id": "U47Invw9qpNG",
    "outputId": "c5196174-029c-49b8-e6b6-99dcc8b4587e"
   },
   "outputs": [
    {
     "data": {
      "text/plain": [
       "6"
      ]
     },
     "execution_count": 51,
     "metadata": {},
     "output_type": "execute_result"
    }
   ],
   "source": [
    "def manhattan_distance(g, v1, v2, level, func):\n",
    "  a = func(g, v1, level)\n",
    "  b = func(g, v2, level) \n",
    "  return sum(abs(e1-e2) for e1, e2 in zip(a,b))\n",
    "\n",
    "manhattan_distance(karate, 2, 7, 1, degree_dist)"
   ]
  },
  {
   "cell_type": "markdown",
   "metadata": {
    "id": "1tNQE0HRwXys"
   },
   "source": [
    "### Hamming distance"
   ]
  },
  {
   "cell_type": "code",
   "execution_count": null,
   "metadata": {
    "colab": {
     "base_uri": "https://localhost:8080/"
    },
    "id": "y2moL9rOqsGl",
    "outputId": "d0ba7ac5-8cbd-4d0a-8ee9-c5b1b05c4bb8"
   },
   "outputs": [
    {
     "data": {
      "text/plain": [
       "0.2777777777777778"
      ]
     },
     "execution_count": 52,
     "metadata": {},
     "output_type": "execute_result"
    }
   ],
   "source": [
    "def hamming_distance(g, v1, v2, level, func):\n",
    "  a = func(g, v1, level)\n",
    "  b = func(g, v2, level)\n",
    "  return (sum(abs(e1 - e2) for e1, e2 in zip(a,b))/len(a))\n",
    "\n",
    "hamming_distance(karate, 7, 10, 1, degree_dist)"
   ]
  },
  {
   "cell_type": "markdown",
   "metadata": {
    "id": "2WdqP7CfwaMG"
   },
   "source": [
    "### Covariance"
   ]
  },
  {
   "cell_type": "code",
   "execution_count": null,
   "metadata": {
    "colab": {
     "base_uri": "https://localhost:8080/"
    },
    "id": "pA0_NEQWP-6i",
    "outputId": "824c1e8e-b319-4bbe-efac-ab17681f93e2"
   },
   "outputs": [
    {
     "data": {
      "text/plain": [
       "array([[0.25163399, 0.12091503],\n",
       "       [0.12091503, 0.33006536]])"
      ]
     },
     "execution_count": 53,
     "metadata": {},
     "output_type": "execute_result"
    }
   ],
   "source": [
    "def covariance(g, v1, v2, level, func):\n",
    "  a = func(g, v1, level)\n",
    "  b = func(g, v2, level)\n",
    "  return np.cov(a, b, rowvar = True, bias = False, ddof = None, fweights = None, aweights = None)\n",
    "  # error: different number of neighours on each level. have taken for a single array. Take cosine smilarity of covar of both?\n",
    "\n",
    "covariance(karate, 3, 5, 1, degree_dist)"
   ]
  },
  {
   "cell_type": "markdown",
   "metadata": {
    "id": "xu6NRs0f0yQD"
   },
   "source": [
    "### Rand-index"
   ]
  },
  {
   "cell_type": "code",
   "execution_count": null,
   "metadata": {
    "colab": {
     "base_uri": "https://localhost:8080/"
    },
    "id": "KzdOKrMgJWhc",
    "outputId": "36143f46-016d-4f64-eaa3-f580bf12b352"
   },
   "outputs": [
    {
     "data": {
      "text/plain": [
       "0.7704672096013716"
      ]
     },
     "execution_count": 54,
     "metadata": {},
     "output_type": "execute_result"
    }
   ],
   "source": [
    "from sklearn.metrics import adjusted_rand_score\n",
    "\n",
    "def rand_index(g, v1, v2, level, func):\n",
    "  a = func(g, v1, level)\n",
    "  b = func(g, v2, level)\n",
    "  return adjusted_rand_score(a, b)\n",
    "\n",
    "rand_index(karate, 4, 7, 2, degree_dist)"
   ]
  },
  {
   "cell_type": "markdown",
   "metadata": {
    "id": "H2cCj9b4wdZU"
   },
   "source": [
    "### Jaccard Index"
   ]
  },
  {
   "cell_type": "code",
   "execution_count": null,
   "metadata": {
    "colab": {
     "base_uri": "https://localhost:8080/"
    },
    "id": "3Pn_E2y5lCv2",
    "outputId": "2af13c1f-ac67-4f12-b9b8-df290845feb7"
   },
   "outputs": [
    {
     "name": "stdout",
     "output_type": "stream",
     "text": [
      "0.07692307692307693\n",
      "0.09090909090909091\n"
     ]
    }
   ],
   "source": [
    "# Intersection by union\n",
    "\n",
    "def jaccard_index_ig(g, v1, v2):\n",
    "  return g.similarity_jaccard(vertices = None, pairs = [(v1, v2)])[0]\n",
    "\n",
    "print(jaccard_index_ig(karate, 1, 4))\n",
    "\n",
    "def jaccard_index_nx(g, v1, v2):\n",
    "  preds = nx.jaccard_coefficient(karatenx, [(v1,v2)])\n",
    "  for u, v, p in preds:\n",
    "      jacc_ind = p\n",
    "      return jacc_ind\n",
    "\n",
    "print(jaccard_index_nx(karatenx, 1, 4))\n",
    "\n",
    "# Giving different values ??"
   ]
  },
  {
   "cell_type": "code",
   "execution_count": null,
   "metadata": {
    "colab": {
     "base_uri": "https://localhost:8080/"
    },
    "id": "K9k3Ss1vfcIy",
    "outputId": "abb37df4-2c65-4e3c-ee30-819e9acc1ad5"
   },
   "outputs": [
    {
     "data": {
      "text/plain": [
       "0.7083333333333334"
      ]
     },
     "execution_count": 56,
     "metadata": {},
     "output_type": "execute_result"
    }
   ],
   "source": [
    "# working with accurate results wrt igraph jaccard predefined func\n",
    "\n",
    "def jaccard(g, u, v, level):\n",
    "  list1 = g.neighborhood(u, level)\n",
    "  list2 = g.neighborhood(v, level)\n",
    "  intersection = len(list(set(list1).intersection(list2)))\n",
    "  union = (len(list1) + len(list2)) - intersection\n",
    "  return float(intersection) / union\n",
    "\n",
    "jaccard(karate, 1, 4, 2)"
   ]
  },
  {
   "cell_type": "markdown",
   "metadata": {
    "id": "ybJmksLWwm_r"
   },
   "source": [
    "### Sorenson-Dice Index"
   ]
  },
  {
   "cell_type": "code",
   "execution_count": null,
   "metadata": {
    "colab": {
     "base_uri": "https://localhost:8080/"
    },
    "id": "lJVqe8cvQAb0",
    "outputId": "e3d40652-6d9b-4dc0-c7b2-3a5e2371f62a"
   },
   "outputs": [
    {
     "data": {
      "text/plain": [
       "0.125"
      ]
     },
     "execution_count": 57,
     "metadata": {},
     "output_type": "execute_result"
    }
   ],
   "source": [
    "# Twice the intersection by sum of degrees\n",
    "\n",
    "def sorenson_dice(g, v1, v2):\n",
    "  sim_list = g.similarity_dice(vertices = None, pairs = [(v1, v2)])\n",
    "  return sim_list[0]\n",
    "\n",
    "sorenson_dice(karate, 2, 6)"
   ]
  },
  {
   "cell_type": "code",
   "execution_count": null,
   "metadata": {
    "colab": {
     "base_uri": "https://localhost:8080/"
    },
    "id": "E5iHTr-xoxHf",
    "outputId": "5762a81a-435e-4cd5-d21f-b27fa85f6554"
   },
   "outputs": [
    {
     "data": {
      "text/plain": [
       "0.125"
      ]
     },
     "execution_count": 58,
     "metadata": {},
     "output_type": "execute_result"
    }
   ],
   "source": [
    "def sorenson(g, u, v, level):\n",
    "  list1 = g.neighborhood(u, level)\n",
    "  list2 = g.neighborhood(v, level)\n",
    "  intersection = len(list(set(list1).intersection(list2)))\n",
    "  denominator = len(list1 + list2)\n",
    "  return float(2*intersection) / denominator\n",
    "\n",
    "sorenson(karate, 6, 2, 1)\n",
    "\n",
    "#working \n"
   ]
  },
  {
   "cell_type": "markdown",
   "metadata": {
    "id": "Bizxsju2wt6V"
   },
   "source": [
    "### Hub promoted index"
   ]
  },
  {
   "cell_type": "code",
   "execution_count": null,
   "metadata": {
    "colab": {
     "base_uri": "https://localhost:8080/"
    },
    "id": "wO2gcqaLQE6u",
    "outputId": "5143ccb8-4764-421d-b607-c51787cf1362"
   },
   "outputs": [
    {
     "data": {
      "text/plain": [
       "1.0"
      ]
     },
     "execution_count": 59,
     "metadata": {},
     "output_type": "execute_result"
    }
   ],
   "source": [
    "# Intersection by min(degrees of x and y)\n",
    "\n",
    "def hub_promoted(g, v1, v2):\n",
    "  intersection = len(adjacency_list[v1].intersection(adjacency_list[v2]))\n",
    "  min_degree = min(degree_list[v1], degree_list[v2])\n",
    "  return intersection/min_degree\n",
    "\n",
    "hub_promoted(karate, 8, 22)"
   ]
  },
  {
   "cell_type": "code",
   "execution_count": null,
   "metadata": {
    "colab": {
     "base_uri": "https://localhost:8080/"
    },
    "id": "XQ32Za6YvbOG",
    "outputId": "b2d63ada-4d6c-4def-8c18-6df2ef6dd1b9"
   },
   "outputs": [
    {
     "data": {
      "text/plain": [
       "0.9583333333333334"
      ]
     },
     "execution_count": 60,
     "metadata": {},
     "output_type": "execute_result"
    }
   ],
   "source": [
    "# Intersection by min(degrees of x and y)\n",
    "\n",
    "def hub_promoted_level(g, v1, v2, level):\n",
    "  # list1 = g.neighborhood(v1, level) \n",
    "  list1 = list_diff(g.neighborhood(v1, level), g.neighborhood(v1, 0))\n",
    "  list2 = list_diff(g.neighborhood(v2, level), g.neighborhood(v2, 0))\n",
    "  intersection = len(list(set(list1).intersection(list2)))\n",
    "  min_degree = min(len(list1), len(list2))\n",
    "  # print(intersection, len(list1)-1, len(list2)-1)\n",
    "  return intersection/min_degree\n",
    "\n",
    "hub_promoted_level(karate, 8, 22, 3)"
   ]
  },
  {
   "cell_type": "markdown",
   "metadata": {
    "id": "CoWUXyPwwvmG"
   },
   "source": [
    "### Hub depressed index"
   ]
  },
  {
   "cell_type": "code",
   "execution_count": null,
   "metadata": {
    "colab": {
     "base_uri": "https://localhost:8080/"
    },
    "id": "EekSldhvQH32",
    "outputId": "0bf3513a-3bb9-44b4-aae5-f81887ea52be"
   },
   "outputs": [
    {
     "data": {
      "text/plain": [
       "0.4"
      ]
     },
     "execution_count": 61,
     "metadata": {},
     "output_type": "execute_result"
    }
   ],
   "source": [
    "# Intersection by max(degrees of x an y)\n",
    "\n",
    "def hub_depressed(g, v1, v2):\n",
    "  intersection = len(adjacency_list[v1].intersection(adjacency_list[v2]))\n",
    "  max_degree = max(degree_list[v1], degree_list[v2])\n",
    "  return intersection/max_degree\n",
    "\n",
    "hub_depressed(karate, 8, 22)"
   ]
  },
  {
   "cell_type": "code",
   "execution_count": null,
   "metadata": {
    "colab": {
     "base_uri": "https://localhost:8080/"
    },
    "id": "OXPAwxDJylfk",
    "outputId": "8361d723-7be7-4215-e2c3-86b051a9adb3"
   },
   "outputs": [
    {
     "data": {
      "text/plain": [
       "0.4"
      ]
     },
     "execution_count": 62,
     "metadata": {},
     "output_type": "execute_result"
    }
   ],
   "source": [
    "def hub_depressed_level(g, v1, v2, level):\n",
    "  list1 = list_diff(g.neighborhood(v1, level), g.neighborhood(v1, 0))\n",
    "  list2 = list_diff(g.neighborhood(v2, level), g.neighborhood(v2, 0))\n",
    "  intersection = len(list(set(list1).intersection(list2)))\n",
    "  max_degree = max(len(list1), len(list2))\n",
    "  return intersection/max_degree\n",
    "\n",
    "hub_depressed_level(karate, 8, 22, 1)"
   ]
  },
  {
   "cell_type": "markdown",
   "metadata": {
    "id": "35ZbfHn-w3sv"
   },
   "source": [
    "### Leicht-holme-newman index"
   ]
  },
  {
   "cell_type": "code",
   "execution_count": null,
   "metadata": {
    "colab": {
     "base_uri": "https://localhost:8080/"
    },
    "id": "c9WYHbQhQM3h",
    "outputId": "c7edf7d4-ea55-43f3-c30c-94d4dddf4e9b"
   },
   "outputs": [
    {
     "data": {
      "text/plain": [
       "0.5"
      ]
     },
     "execution_count": 63,
     "metadata": {},
     "output_type": "execute_result"
    }
   ],
   "source": [
    "# Intersection by product of degrees\n",
    "\n",
    "def leicht_holme_newman_local(g, v1, v2):\n",
    "  intersection = len(adjacency_list[v1].intersection(adjacency_list[v2]))\n",
    "  degree_product = degree_list[v1]*degree_list[v2]\n",
    "  return intersection/degree_product\n",
    "\n",
    "leicht_holme_newman_local(karate, 18, 22)"
   ]
  },
  {
   "cell_type": "code",
   "execution_count": null,
   "metadata": {
    "colab": {
     "base_uri": "https://localhost:8080/"
    },
    "id": "UR8Wa3Yl9Urv",
    "outputId": "3e05f48b-2986-47e7-a690-79e05516aaea"
   },
   "outputs": [
    {
     "data": {
      "text/plain": [
       "0.05246913580246913"
      ]
     },
     "execution_count": 64,
     "metadata": {},
     "output_type": "execute_result"
    }
   ],
   "source": [
    "def leicht_holme_newman_local_level(g, v1, v2, level):\n",
    "  list1 = list_diff(g.neighborhood(v1, level), g.neighborhood(v1, 0))\n",
    "  list2 = list_diff(g.neighborhood(v2, level), g.neighborhood(v2, 0))\n",
    "  intersection = len(list(set(list1).intersection(list2)))\n",
    "  degree_product = (len(list1)) * (len(list2))\n",
    "  # print(intersection, list1, list2, degree_product)\n",
    "  return intersection/degree_product\n",
    "\n",
    "leicht_holme_newman_local_level(karate, 18, 22, 2)"
   ]
  },
  {
   "cell_type": "markdown",
   "metadata": {
    "id": "ah1oagsMw5Xq"
   },
   "source": [
    "### Resource allocation index"
   ]
  },
  {
   "cell_type": "code",
   "execution_count": null,
   "metadata": {
    "colab": {
     "base_uri": "https://localhost:8080/"
    },
    "id": "Sy-uoXzGQRsP",
    "outputId": "1ada5729-b6bd-42db-b85f-c196f34de4ee"
   },
   "outputs": [
    {
     "data": {
      "text/plain": [
       "0.6791666666666667"
      ]
     },
     "execution_count": 65,
     "metadata": {},
     "output_type": "execute_result"
    }
   ],
   "source": [
    "# Networkx\n",
    "# One over the degree of each common neighbour, summed over all common neighbours\n",
    "\n",
    "def resource_allocation(g, u, v):\n",
    "  preds = nx.resource_allocation_index(g, [(u, v)])\n",
    "  for u, v, p in preds:\n",
    "    return p\n",
    "\n",
    "resource_allocation(karatenx, 1, 2)"
   ]
  },
  {
   "cell_type": "markdown",
   "metadata": {
    "id": "7IAjkLoHw9n3"
   },
   "source": [
    "### Adamic Adar Index"
   ]
  },
  {
   "cell_type": "code",
   "execution_count": null,
   "metadata": {
    "colab": {
     "base_uri": "https://localhost:8080/"
    },
    "id": "HygEdm23jPQF",
    "outputId": "a032ee0e-5b1b-476a-a0d7-9bcd931d1879"
   },
   "outputs": [
    {
     "name": "stdout",
     "output_type": "stream",
     "text": [
      "0.40242960438184466\n",
      "0.40242960438184466\n"
     ]
    }
   ],
   "source": [
    "def adamic_adar_ig(g, v1, v2):\n",
    "  sim_list = g.similarity_inverse_log_weighted(vertices = [v1])\n",
    "  return sim_list[0][v2]\n",
    "\n",
    "print(adamic_adar_ig(karate, 2, 20))\n",
    "\n",
    "def adamic_adar_nx(g, u, v):\n",
    "  preds = nx.adamic_adar_index(g, [(u, v)])\n",
    "  for u, v, p in preds:\n",
    "    aa = p;\n",
    "  return aa\n",
    "\n",
    "print(adamic_adar_nx(karatenx, 2, 20))"
   ]
  },
  {
   "cell_type": "markdown",
   "metadata": {
    "id": "_eZr_FYnxBWc"
   },
   "source": [
    "### Preferential attachment"
   ]
  },
  {
   "cell_type": "code",
   "execution_count": null,
   "metadata": {
    "colab": {
     "base_uri": "https://localhost:8080/"
    },
    "id": "yUv1l7FgQUgj",
    "outputId": "c91cf5df-9984-44c3-a63f-7029b5f1d9d6"
   },
   "outputs": [
    {
     "data": {
      "text/plain": [
       "12"
      ]
     },
     "execution_count": 67,
     "metadata": {},
     "output_type": "execute_result"
    }
   ],
   "source": [
    "# Product of degrees\n",
    "\n",
    "def pref_attachment(g, v1, v2):\n",
    "  return degree_list[v1] * degree_list[v2]\n",
    "\n",
    "pref_attachment(karate, 3, 17)"
   ]
  },
  {
   "cell_type": "markdown",
   "metadata": {
    "id": "TVQpPqhYxRo5"
   },
   "source": [
    "### Overlap coefficent"
   ]
  },
  {
   "cell_type": "code",
   "execution_count": null,
   "metadata": {
    "colab": {
     "base_uri": "https://localhost:8080/"
    },
    "id": "5arYIih2w-EY",
    "outputId": "05d7d04e-ae86-4498-9ea4-b82545f9db27"
   },
   "outputs": [
    {
     "data": {
      "text/plain": [
       "0.5"
      ]
     },
     "execution_count": 68,
     "metadata": {},
     "output_type": "execute_result"
    }
   ],
   "source": [
    "def overlap_coeff(g, v1, v2, level):\n",
    "  intersection = len(set(g.neighbors(v1, level)).intersection(g.neighbors(v2, level)))\n",
    "  min_nbd = len(min(g.neighbors(v1, level), g.neighbors(v2, level)))\n",
    "  return intersection/min_nbd\n",
    "\n",
    "overlap_coeff(karate, 1, 17, 2) #giving same value for all levels?"
   ]
  },
  {
   "cell_type": "markdown",
   "metadata": {
    "id": "yGerj08GaMSI"
   },
   "source": [
    "### Neighborhood overlap"
   ]
  },
  {
   "cell_type": "code",
   "execution_count": null,
   "metadata": {
    "colab": {
     "base_uri": "https://localhost:8080/"
    },
    "id": "xBp-7GA5RF0z",
    "outputId": "274ca0f1-6dd5-4597-bcaf-c6792122c8eb"
   },
   "outputs": [
    {
     "data": {
      "text/plain": [
       "0.09090909090909091"
      ]
     },
     "execution_count": 69,
     "metadata": {},
     "output_type": "execute_result"
    }
   ],
   "source": [
    "def neighborhood_overlap(g, v1, v2, level):\n",
    "    nh1 = g.neighborhood(v1, level)\n",
    "    nh2 = g.neighborhood(v2, level)\n",
    "    inter_set = set.intersection(set(nh1), set(nh2))\n",
    "    inter_list = list(inter_set)\n",
    "    intersection_len = len(inter_list)\n",
    "    # | N(u) ⋃ N(v) | = |N(u)| + |N(v)| - | N(u) ⋂ N(v)|\n",
    "    union = g.neighborhood_size(v1, level) + g.neighborhood_size(v2, level) - intersection_len - 2\n",
    "    return intersection_len/union\n",
    "\n",
    "neighborhood_overlap(karate, 1, 4, 1)"
   ]
  },
  {
   "cell_type": "markdown",
   "metadata": {
    "id": "g07OjIJS5pKB"
   },
   "source": [
    "### Edge connectivity"
   ]
  },
  {
   "cell_type": "code",
   "execution_count": null,
   "metadata": {
    "colab": {
     "base_uri": "https://localhost:8080/"
    },
    "id": "bEtSsg7BRkAm",
    "outputId": "0a2db788-31fa-4b60-f351-244b2890e3c1"
   },
   "outputs": [
    {
     "name": "stdout",
     "output_type": "stream",
     "text": [
      "Induced Subgraph 1: \n",
      "Neighbor indices: [4, 0, 6, 10, 1, 2, 3, 5, 7, 8, 11, 12, 13, 17, 19, 21, 31, 16]\n",
      "Neighbor names: [4, 0, 6, 10, 1, 2, 3, 5, 7, 8, 11, 12, 13, 17, 19, 21, 31, 16]\n",
      "Induced graph indices: [0, 1, 2, 3, 4, 5, 6, 7, 8, 9, 10, 11, 12, 13, 14, 15, 16, 17]\n",
      "Induced graph names: [4, 0, 6, 10, 1, 2, 3, 5, 7, 8, 11, 12, 13, 17, 19, 21, 31, 16]\n",
      "Old v1:  4  New v1:  0\n",
      "Old v2:  6  New v2:  2\n",
      "Edge connectivity 1 =  6\n",
      "\n",
      "Induced Subgraph 2: \n",
      "Neighbor indices: [6, 0, 4, 5, 16, 1, 2, 3, 7, 8, 10, 11, 12, 13, 17, 19, 21, 31]\n",
      "Neighbor names: [6, 0, 4, 5, 16, 1, 2, 3, 7, 8, 10, 11, 12, 13, 17, 19, 21, 31]\n",
      "Induced graph indices: [0, 1, 2, 3, 4, 5, 6, 7, 8, 9, 10, 11, 12, 13, 14, 15, 16, 17]\n",
      "Induced graph names: [6, 0, 4, 5, 16, 1, 2, 3, 7, 8, 10, 11, 12, 13, 17, 19, 21, 31]\n",
      "Old v2:  6  New v2:  0\n",
      "Old v1:  4  New v1:  2\n",
      "Edge connectivity 2 =  6\n",
      "\n",
      "Min EC:  6\n"
     ]
    },
    {
     "data": {
      "text/plain": [
       "6"
      ]
     },
     "execution_count": 70,
     "metadata": {},
     "output_type": "execute_result"
    }
   ],
   "source": [
    "def edge_connectivity(g, v1, v2, level):\n",
    "\n",
    "  print(\"Induced Subgraph 1: \")\n",
    "  nh1 = g.neighborhood(v1, level)\n",
    "  print(\"Neighbor indices:\" , nh1)\n",
    "  print(\"Neighbor names:\", [v[\"name\"] for v in g.vs.select(nh1)])\n",
    "  g1 = level_induced_subgraph(g, v1, level)\n",
    "  print(\"Induced graph indices:\", vertex_list(g1))\n",
    "  print(\"Induced graph names:\", [v[\"name\"] for v in g1.vs()])\n",
    "\n",
    "  if v2 not in nh1:\n",
    "    print(v2, 'is not in subgraph of', v1)\n",
    "    ec1 = g1.ecount()\n",
    "  else:\n",
    "    for v in g1.vs():\n",
    "      if v[\"name\"] == v1:\n",
    "        v1_new = v.index\n",
    "        print(\"Old v1: \", v1, \" New v1: \", v1_new)\n",
    "      if v[\"name\"] == v2:\n",
    "        v2_new = v.index\n",
    "        print(\"Old v2: \", v2, \" New v2: \", v2_new)\n",
    "\n",
    "    ec1 = g1.edge_connectivity(v1_new, v2_new)\n",
    "    print('Edge connectivity 1 = ', ec1)\n",
    "\n",
    "  print(\"\\nInduced Subgraph 2: \")\n",
    "  nh2 = g.neighborhood(v2, level)\n",
    "  print(\"Neighbor indices:\" , nh2)\n",
    "  print(\"Neighbor names:\", [v[\"name\"] for v in g.vs.select(nh2)])\n",
    "  g2 = level_induced_subgraph(g, v2, level)\n",
    "  print(\"Induced graph indices:\", vertex_list(g2))\n",
    "  print(\"Induced graph names:\", [v[\"name\"] for v in g2.vs()])\n",
    "\n",
    "  if v1 not in nh2:\n",
    "    print(v1, 'is not in subgraph of', v2)\n",
    "    ec2 = g2.ecount()\n",
    "  else:\n",
    "    for v in g2.vs():\n",
    "      if v[\"name\"] == v1:\n",
    "        v1_new = v.index\n",
    "        print(\"Old v1: \", v1, \" New v1: \", v1_new)\n",
    "      if v[\"name\"] == v2:\n",
    "        v2_new = v.index\n",
    "        print(\"Old v2: \", v2, \" New v2: \", v2_new)\n",
    "\n",
    "    ec2 = g2.edge_connectivity(v1_new, v2_new)\n",
    "    print('Edge connectivity 2 = ', ec2)  \n",
    "\n",
    "  print(\"\\nMin EC: \", min(ec1, ec2))\n",
    "  return min(ec1, ec2)\n",
    "\n",
    "edge_connectivity(karate, 4, 6, 2)"
   ]
  },
  {
   "cell_type": "markdown",
   "metadata": {
    "id": "Dc9bX68i5kpT"
   },
   "source": [
    "### Vertex Connectivity (needs corrections)"
   ]
  },
  {
   "cell_type": "code",
   "execution_count": null,
   "metadata": {
    "id": "sh_CqdcG0FJp"
   },
   "outputs": [],
   "source": [
    "# def vertex_connectivity(g, v1, v2, level):\n",
    "\n",
    "#   g1 = level_induced_subgraph(g, v1, level)\n",
    "#   if v2 not in g.neighborhood(v1, level): \n",
    "#     vc1 = g1.vcount()\n",
    "#   else:\n",
    "#     for v in g1.vs():\n",
    "#       if v[\"name\"] == v1: v1_new = v.index\n",
    "#       if v[\"name\"] == v2: v2_new = v.index\n",
    "\n",
    "#     #Vertices should not be connected\n",
    "#     if are_connected(g, v1_new, v2_new) == 1:\n",
    "#       return 0\n",
    "\n",
    "#     vc1 = g1.vertex_connectivity(v1_new, v2_new)\n",
    " \n",
    "#   g2 = level_induced_subgraph(g, v2, level)\n",
    "#   if v1 not in g.neighborhood(v2, level): \n",
    "#     vc2 = g2.vcount()\n",
    "#   else:\n",
    "#     for v in g2.vs():\n",
    "#       if v[\"name\"] == v1: v1_new = v.index\n",
    "#       if v[\"name\"] == v2: v2_new = v.index\n",
    "        \n",
    "#     if are_connected(g, v1_new, v2_new) == 1:\n",
    "#       return 0\n",
    "\n",
    "#     vc2 = g2.vertex_connectivity(v1_new, v2_new)\n",
    "\n",
    "#   return min(vc1, vc2)\n",
    "\n",
    "# vertex_connectivity(karate, 4, 31, 3)"
   ]
  },
  {
   "cell_type": "markdown",
   "metadata": {
    "id": "RrCcquqG1qex"
   },
   "source": [
    "### Katz Index (for node pair)"
   ]
  },
  {
   "cell_type": "code",
   "execution_count": null,
   "metadata": {
    "id": "LT-uuqGVCiRZ"
   },
   "outputs": [],
   "source": [
    "# from numpy.linalg import inv\n",
    "# def katz_index(g):\n",
    "#   L = nx.normalized_laplacian_matrix(g)\n",
    "#   e = np.linalg.eigvals(L.A)\n",
    "#   beta = 1/max(e)\n",
    "#   I = np.identity(len(g.nodes)) #create identity matrix\n",
    "# #Katz score\n",
    "#   return inv(I - nx.to_numpy_array(g)*beta) - I\n",
    "\n",
    "# katz_index(karatenx)"
   ]
  },
  {
   "cell_type": "code",
   "execution_count": null,
   "metadata": {
    "id": "DTdxeo6CDvok"
   },
   "outputs": [],
   "source": [
    "# def katz_centrality(g):\n",
    "#   phi = (1+math.sqrt(5)/2.0)\n",
    "#   centrality = nx.katz_centrality(g ,1/phi-0.01)\n",
    "  \n",
    "#   for n,c in sorted(centrality.items()):\n",
    "#     return c   # Not working"
   ]
  },
  {
   "cell_type": "code",
   "execution_count": null,
   "metadata": {
    "colab": {
     "base_uri": "https://localhost:8080/"
    },
    "id": "NrWtncTEnLVm",
    "outputId": "d066240e-1d46-4361-905d-1449bea25cea"
   },
   "outputs": [
    {
     "name": "stdout",
     "output_type": "stream",
     "text": [
      "0 0.37\n",
      "1 0.60\n",
      "2 0.60\n",
      "3 0.37\n"
     ]
    }
   ],
   "source": [
    "# testing pre defined function\n",
    "import math\n",
    "G = nx.path_graph(4)\n",
    "phi = (1 + math.sqrt(5)) / 2.0  # largest eigenvalue of adj matrix\n",
    "centrality = nx.katz_centrality(G, 1 / phi - 0.01)\n",
    "for n, c in (centrality.items()):\n",
    "    print(f\"{n} {c:.2f}\")"
   ]
  },
  {
   "cell_type": "code",
   "execution_count": null,
   "metadata": {
    "id": "IoAvMDSIfH3w"
   },
   "outputs": [],
   "source": [
    "# def katz_centrality(g, vertex_id, level, func):\n",
    "#   n = level_subgraph(g, vertex_id, level)\n",
    "#   phi = (1 + math.sqrt(5)) / 2.0  # largest eigenvalue of adj matrix\n",
    "#   centrality = nx.katz_centrality(n, 1 / phi - 0.01)\n",
    "#   for n, c in (centrality.items()):\n",
    "#     print(f\" {c:.2f}\")\n",
    "\n",
    "# katz_centrality(karate, 3, 1, degree_dist)"
   ]
  },
  {
   "cell_type": "markdown",
   "metadata": {
    "id": "1cEfksCCEGja"
   },
   "source": [
    "### Hitting Time\n",
    "\n",
    "https://stackoverflow.com/questions/9619541/calculate-hitting-time-between-2-nodes-using-networkx\n"
   ]
  },
  {
   "cell_type": "code",
   "execution_count": null,
   "metadata": {
    "colab": {
     "base_uri": "https://localhost:8080/"
    },
    "id": "Pre5FjwAEJq8",
    "outputId": "5e3d9061-490f-4bab-d169-111c00288624"
   },
   "outputs": [
    {
     "data": {
      "text/plain": [
       "2649"
      ]
     },
     "execution_count": 76,
     "metadata": {},
     "output_type": "execute_result"
    }
   ],
   "source": [
    "def hitting_time(g, v1, v2):\n",
    "  hit_idx = (v1, v2)\n",
    "\n",
    "  A = g.get_adjacency() # Adjacency matrix\n",
    "  A = np.array(A.data) # Igraph matrix to numpy array\n",
    "\n",
    "  # Make the final state an absorbing condition\n",
    "  A[hit_idx[1],:] = 0\n",
    "  A[hit_idx[1],hit_idx[1]] = 1\n",
    "\n",
    "  # Make a proper Markov matrix by row normalizing\n",
    "  A = (A.T/A.sum(axis=1)).T\n",
    "\n",
    "  B = A.copy()\n",
    "  Z = [] # hit probability\n",
    "  while(True):\n",
    "      Z.append( B[hit_idx] )\n",
    "      if B[hit_idx] > 0.99999999999999:\n",
    "        break\n",
    "      B = dot(B,A)\n",
    "  return len(Z)\n",
    "\n",
    "hitting_time(karate, 0, 10)"
   ]
  },
  {
   "cell_type": "markdown",
   "metadata": {
    "id": "aEOVrKkzAen_"
   },
   "source": [
    "### Function to find Laplacian Matrix of a Graph (3 ways)\n"
   ]
  },
  {
   "cell_type": "code",
   "execution_count": null,
   "metadata": {
    "id": "3eZedLIr-4rj"
   },
   "outputs": [],
   "source": [
    "def laplacian(g):\n",
    "  A = g.get_adjacency() # Adjacency matrix\n",
    "  A = np.array(A.data) # Igraph matrix to numpy array\n",
    "  D = np.diag(degree_list) # Diagonal matrix of node degrees\n",
    "  L = D - A # Laplacian matrix\n",
    "  return L\n",
    "\n",
    "def laplacian_ig(g):\n",
    "  return g.laplacian()\n",
    "\n",
    "def laplacian_nx(g):\n",
    "  return laplcian_matrix(karatenx)"
   ]
  },
  {
   "cell_type": "markdown",
   "metadata": {
    "id": "vB-vT2Q2R6qE"
   },
   "source": [
    "### Average commute time \n",
    "![image.png](data:image/png;base64,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)"
   ]
  },
  {
   "cell_type": "code",
   "execution_count": null,
   "metadata": {
    "colab": {
     "base_uri": "https://localhost:8080/"
    },
    "id": "wn2Axapt4YYw",
    "outputId": "03bf2c0b-374c-484e-a464-45334078e2bb"
   },
   "outputs": [
    {
     "data": {
      "text/plain": [
       "0.024358974358974397"
      ]
     },
     "execution_count": 78,
     "metadata": {},
     "output_type": "execute_result"
    }
   ],
   "source": [
    "def avg_commute_time(g, v1, v2):\n",
    "  M = g.ecount() # No of edges\n",
    "  L = laplacian(g)\n",
    "  L_pinv = numpy.linalg.pinv(L) # Pseudoinverse of L\n",
    "  act = M*(L_pinv[v1][v1]+L_pinv[v2][v2]-(2*L_pinv[v1][v2])) # ACT formula\n",
    "  act_similarity = 1/act # Taking the inverse, since smaller ACT means more similarity\n",
    "  return act_similarity\n",
    "\n",
    "# Gives inf for (x, x), will that be a problem?\n",
    "\n",
    "avg_commute_time(karate, 4, 10)"
   ]
  },
  {
   "cell_type": "markdown",
   "metadata": {
    "id": "y2Sx5Ivm5VDG"
   },
   "source": [
    "### Cosine based on L+ \n",
    "\n",
    "![image.png](data:image/png;base64,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)"
   ]
  },
  {
   "cell_type": "code",
   "execution_count": null,
   "metadata": {
    "colab": {
     "base_uri": "https://localhost:8080/"
    },
    "id": "gw4_MBQn5QEI",
    "outputId": "62fa6726-1feb-4b6d-d783-e25185d55d60"
   },
   "outputs": [
    {
     "data": {
      "text/plain": [
       "-0.11824881924436931"
      ]
     },
     "execution_count": 79,
     "metadata": {},
     "output_type": "execute_result"
    }
   ],
   "source": [
    "def cosine_L(g, v1, v2):\n",
    "  L = laplacian(g)\n",
    "  L_pinv = numpy.linalg.pinv(L) # Pseudoinverse of L\n",
    "  cosine_L = L_pinv[v1][v2] / sqrt(dot(L_pinv[v1][v1], L_pinv[v2][v2]))\n",
    "  return cosine_L\n",
    "\n",
    "cosine_L(karate, 4, 8)"
   ]
  },
  {
   "cell_type": "markdown",
   "metadata": {
    "id": "NJtUhd3_5b2d"
   },
   "source": [
    "### Random Walk with Restart (RWR)"
   ]
  },
  {
   "cell_type": "code",
   "execution_count": null,
   "metadata": {
    "colab": {
     "base_uri": "https://localhost:8080/"
    },
    "id": "n8F2s1lLSL7c",
    "outputId": "277d449d-fb33-42cc-e75c-ad52492b6738"
   },
   "outputs": [
    {
     "data": {
      "text/plain": [
       "0.21500978351953767"
      ]
     },
     "execution_count": 80,
     "metadata": {},
     "output_type": "execute_result"
    }
   ],
   "source": [
    "# Personalised PageRank is essentially a Random Walk with Restart\n",
    "# if the personalisation vector has 1 for the starting node and 0 everywhere else\n",
    "\n",
    "def rwr(g, vertex_id):\n",
    "  reset_vector = [0]*total_vertices\n",
    "  reset_vector[vertex_id] = 1\n",
    "  return g.personalized_pagerank(vertices=vertex_id,  reset=reset_vector)\n",
    "\n",
    "rwr(karate, 2)"
   ]
  },
  {
   "cell_type": "markdown",
   "metadata": {
    "id": "Sy01R4ta8de4"
   },
   "source": [
    "### L+ Directly\n"
   ]
  },
  {
   "cell_type": "code",
   "execution_count": null,
   "metadata": {
    "colab": {
     "base_uri": "https://localhost:8080/"
    },
    "id": "DB_VxKaU8jKK",
    "outputId": "55b5bccb-a8a2-485d-943b-c835e9cf2336"
   },
   "outputs": [
    {
     "data": {
      "text/plain": [
       "-0.030128667948826033"
      ]
     },
     "execution_count": 81,
     "metadata": {},
     "output_type": "execute_result"
    }
   ],
   "source": [
    "def L_plus(g, v1, v2):\n",
    "  L = laplacian(g)\n",
    "  L_pinv = numpy.linalg.pinv(L) # Pseudoinverse of L\n",
    "  return L_pinv[v1][v2]\n",
    "\n",
    "L_plus(karate, 2, 10)"
   ]
  },
  {
   "cell_type": "markdown",
   "metadata": {
    "id": "V2Ar9V3SBtlM"
   },
   "source": [
    "### Matrix Forest Index (MFI) \n",
    "\n",
    "![image.png](data:image/png;base64,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)"
   ]
  },
  {
   "cell_type": "code",
   "execution_count": null,
   "metadata": {
    "colab": {
     "base_uri": "https://localhost:8080/"
    },
    "id": "cFH3JXkNB00m",
    "outputId": "352e8f94-ddaa-422d-ea3b-b79eb3ba5fcd"
   },
   "outputs": [
    {
     "data": {
      "text/plain": [
       "0.01894891626102593"
      ]
     },
     "execution_count": 82,
     "metadata": {},
     "output_type": "execute_result"
    }
   ],
   "source": [
    "def mfi(g, v1, v2):\n",
    "  A = g.get_adjacency() # Adjacency matrix\n",
    "  A = np.array(A.data) # Igraph matrix to numpy array\n",
    "  I = np.identity(len(A), dtype = None) # Identity matrix\n",
    "  L = laplacian(g)\n",
    "  S = np.linalg.pinv(I + L)\n",
    "  return S[v1][v2]\n",
    "\n",
    "mfi(karate, 3, 6)"
   ]
  },
  {
   "cell_type": "markdown",
   "metadata": {
    "id": "2mfqvDll5dKW"
   },
   "source": [
    "### Local Path index\n",
    "![image.png](data:image/png;base64,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)"
   ]
  },
  {
   "cell_type": "code",
   "execution_count": null,
   "metadata": {
    "colab": {
     "base_uri": "https://localhost:8080/"
    },
    "id": "vISvF3H1CpBJ",
    "outputId": "798b61f5-9ba0-4a1a-cf27-a8e1178628eb"
   },
   "outputs": [
    {
     "name": "stdout",
     "output_type": "stream",
     "text": [
      "\n"
     ]
    }
   ],
   "source": [
    "def LPI(g, vertex_id, level):\n",
    "  g_sub = level_induced_subgraph(g, vertex_id, level)\n",
    "  A = nx.adjacency_matrix(g_sub, nodelist=None, dtype=None, weight='weight')\n",
    "  e = 0.52  #it is a free variable, it should lie bw 0 and 1\n",
    "  lp = (A*A) + e*(A*A*A) + (e**2)*(A*A*A*A)\n",
    "  return lp\n",
    "print() "
   ]
  },
  {
   "cell_type": "markdown",
   "metadata": {
    "id": "1VsU8qZY510D"
   },
   "source": [
    "### Local Random Walk"
   ]
  },
  {
   "cell_type": "code",
   "execution_count": null,
   "metadata": {
    "colab": {
     "base_uri": "https://localhost:8080/"
    },
    "id": "buKI-_YwtSof",
    "outputId": "c37de7c1-67b6-4ab1-8d9e-d67458fb5291"
   },
   "outputs": [
    {
     "data": {
      "text/plain": [
       "0.18433699645765958"
      ]
     },
     "execution_count": 84,
     "metadata": {},
     "output_type": "execute_result"
    }
   ],
   "source": [
    "def LRW(g, vertex_id, level):\n",
    "  g_sub = level_induced_subgraph(g, vertex_id, level)\n",
    "  return g_sub.personalized_pagerank(vertices=vertex_id)\n",
    "  \n",
    "LRW(karate, 3, 1)"
   ]
  }
 ],
 "metadata": {
  "colab": {
   "collapsed_sections": [],
   "name": "functions.ipynb",
   "provenance": []
  },
  "kernelspec": {
   "display_name": "Python 3 (ipykernel)",
   "language": "python",
   "name": "python3"
  },
  "language_info": {
   "codemirror_mode": {
    "name": "ipython",
    "version": 3
   },
   "file_extension": ".py",
   "mimetype": "text/x-python",
   "name": "python",
   "nbconvert_exporter": "python",
   "pygments_lexer": "ipython3",
   "version": "3.9.6"
  }
 },
 "nbformat": 4,
 "nbformat_minor": 1
}
