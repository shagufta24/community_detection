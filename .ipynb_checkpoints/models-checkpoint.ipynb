{
 "cells": [
  {
   "cell_type": "markdown",
   "id": "5e70b589",
   "metadata": {},
   "source": [
    "### Initialization"
   ]
  },
  {
   "cell_type": "code",
   "execution_count": 196,
   "id": "7f72abdd",
   "metadata": {},
   "outputs": [],
   "source": [
    "import pandas as pd\n",
    "import statistics\n",
    "import math\n",
    "import numpy as np\n",
    "import matplotlib.pyplot as plt\n",
    "%matplotlib inline"
   ]
  },
  {
   "cell_type": "code",
   "execution_count": 197,
   "id": "bf2854dd",
   "metadata": {},
   "outputs": [],
   "source": [
    "df = pd.read_csv('features_data.csv')\n",
    "comms = pd.read_csv('comms_data.csv')\n",
    "\n",
    "# Considering louvain_nx as target\n",
    "labels = comms['louvain_nx']\n",
    "df['label'] = labels\n",
    "\n",
    "# Drop extra columns\n",
    "df.drop(columns = df.columns[[0,1]], axis=1, inplace=True)\n",
    "\n",
    "# Temporarily dropping\n",
    "df.drop(['shannon_node_1', 'shannon_node_2'], axis=1, inplace=True)"
   ]
  },
  {
   "cell_type": "code",
   "execution_count": 198,
   "id": "47de1bfb",
   "metadata": {},
   "outputs": [],
   "source": [
    "X = df.drop(columns=['label'], axis=1)\n",
    "y = df['label']"
   ]
  },
  {
   "cell_type": "markdown",
   "id": "13827683",
   "metadata": {},
   "source": [
    "### Data Exploration"
   ]
  },
  {
   "cell_type": "code",
   "execution_count": 199,
   "id": "42910c02",
   "metadata": {},
   "outputs": [
    {
     "data": {
      "text/plain": [
       "False"
      ]
     },
     "execution_count": 199,
     "metadata": {},
     "output_type": "execute_result"
    }
   ],
   "source": [
    "df.isnull().values.any()"
   ]
  },
  {
   "cell_type": "code",
   "execution_count": 200,
   "id": "1f53674a",
   "metadata": {},
   "outputs": [
    {
     "data": {
      "text/plain": [
       "0    415\n",
       "1    146\n",
       "Name: label, dtype: int64"
      ]
     },
     "execution_count": 200,
     "metadata": {},
     "output_type": "execute_result"
    }
   ],
   "source": [
    "df['label'].value_counts()"
   ]
  },
  {
   "cell_type": "markdown",
   "id": "61b6366e",
   "metadata": {},
   "source": [
    "### Imbalanced classes"
   ]
  },
  {
   "cell_type": "code",
   "execution_count": 201,
   "id": "1eb3aee6",
   "metadata": {},
   "outputs": [
    {
     "name": "stdout",
     "output_type": "stream",
     "text": [
      "class 0: (415, 51)\n",
      "class 1: (146, 51)\n",
      "total class of 1 and 0:\n",
      " 1    415\n",
      "0    415\n",
      "Name: label, dtype: int64\n"
     ]
    },
    {
     "data": {
      "text/plain": [
       "<AxesSubplot:title={'center':'count (target)'}>"
      ]
     },
     "execution_count": 201,
     "metadata": {},
     "output_type": "execute_result"
    },
    {
     "data": {
      "image/png": "[encoded data removed]",
      "text/plain": [
       "<Figure size 432x288 with 1 Axes>"
      ]
     },
     "metadata": {
      "needs_background": "light"
     },
     "output_type": "display_data"
    }
   ],
   "source": [
    "# Random oversampling\n",
    "\n",
    "# class count\n",
    "class_count_0, class_count_1 = df['label'].value_counts()\n",
    "# separate classes\n",
    "class_0 = df[df['label'] == 0]\n",
    "class_1 = df[df['label'] == 1]\n",
    "print('class 0:', class_0.shape)\n",
    "print('class 1:', class_1.shape)\n",
    "      \n",
    "class_1_over = class_1.sample(class_count_0, replace=True)\n",
    "test_over = pd.concat([class_1_over, class_0], axis=0)\n",
    "\n",
    "print(\"total class of 1 and 0:\\n\", test_over['label'].value_counts())\n",
    "# plot the count\n",
    "test_over['label'].value_counts().plot(kind='bar', title='count (target)')"
   ]
  },
  {
   "cell_type": "markdown",
   "id": "c349a514",
   "metadata": {},
   "source": [
    "### Correlated features"
   ]
  },
  {
   "cell_type": "code",
   "execution_count": 202,
   "id": "aab51b96",
   "metadata": {},
   "outputs": [],
   "source": [
    "# Feature pairs with pearson correlation > 0.9 \n",
    "\n",
    "corr = df.corr().abs().unstack().sort_values(ascending=False).to_frame().reset_index()\n",
    "corr = corr[corr['level_0'] != corr['level_1']]\n",
    "top_corr = corr[corr[0] > 0.9]\n",
    "pairs = set([(top_corr['level_0'].iloc[i], top_corr['level_1'].iloc[i]) for i in range(len(top_corr))])"
   ]
  },
  {
   "cell_type": "code",
   "execution_count": 203,
   "id": "e78e0d27",
   "metadata": {},
   "outputs": [],
   "source": [
    "# Dropping columns\n",
    "for pair in pairs:\n",
    "    cols = df.columns\n",
    "    if pair[0] in cols and pair[1] in cols:\n",
    "        df.drop(pair[0], axis=1, inplace=True)"
   ]
  },
  {
   "cell_type": "markdown",
   "id": "e16ef716",
   "metadata": {},
   "source": [
    "### Splitting Data"
   ]
  },
  {
   "cell_type": "code",
   "execution_count": 204,
   "id": "493dc956",
   "metadata": {},
   "outputs": [],
   "source": [
    "from sklearn.model_selection import train_test_split\n",
    "X_train, X_test, y_train, y_test = train_test_split(X, y, test_size=0.2, random_state=42, shuffle=True, stratify=y)"
   ]
  },
  {
   "cell_type": "markdown",
   "id": "9ddf6625",
   "metadata": {},
   "source": [
    "### Feature Scaling"
   ]
  },
  {
   "cell_type": "code",
   "execution_count": 205,
   "id": "7849e5c6",
   "metadata": {},
   "outputs": [],
   "source": [
    "# # Normalization\n",
    "\n",
    "# from sklearn.preprocessing import StandardScaler\n",
    "# scaler = StandardScaler()\n",
    "# X_train_scaled = scaler.fit_transform(X_train)\n",
    "# X_test_scaled = scaler.fit_transform(X_test)\n",
    "\n",
    "# Min-Max scaling\n",
    "\n",
    "from sklearn.preprocessing import MinMaxScaler\n",
    "scaler = MinMaxScaler()\n",
    "X_train_scaled = scaler.fit_transform(X_train)\n",
    "X_test_scaled = scaler.fit_transform(X_test)\n",
    "\n",
    "X_train = pd.DataFrame(X_train_scaled, columns = X_train.columns)\n",
    "X_test = pd.DataFrame(X_test_scaled, columns = X_test.columns)"
   ]
  },
  {
   "cell_type": "markdown",
   "id": "ec2e94d0",
   "metadata": {},
   "source": [
    "### Training models"
   ]
  },
  {
   "cell_type": "code",
   "execution_count": 206,
   "id": "065bb0a4",
   "metadata": {},
   "outputs": [],
   "source": [
    "# Cross validation to test model accuracy\n",
    "\n",
    "from sklearn.model_selection import cross_val_score\n",
    "from sklearn.model_selection import RepeatedStratifiedKFold\n",
    "\n",
    "def test_model(model):\n",
    "    cv = RepeatedStratifiedKFold(n_splits=5, n_repeats=2, random_state=42)\n",
    "    return np.mean(cross_val_score(model, X_train, y_train, cv=cv, scoring=\"accuracy\"))"
   ]
  },
  {
   "cell_type": "code",
   "execution_count": 207,
   "id": "2427c84e",
   "metadata": {},
   "outputs": [
    {
     "data": {
      "text/plain": [
       "0.8795006242197253"
      ]
     },
     "execution_count": 207,
     "metadata": {},
     "output_type": "execute_result"
    }
   ],
   "source": [
    "# Logistic Regression\n",
    "from sklearn.linear_model import LogisticRegression\n",
    "model = LogisticRegression(class_weight=\"balanced\")\n",
    "model.fit(X_train, y_train)\n",
    "test_model(model)"
   ]
  },
  {
   "cell_type": "code",
   "execution_count": 208,
   "id": "47d53518",
   "metadata": {},
   "outputs": [
    {
     "data": {
      "text/plain": [
       "0.9140574282147315"
      ]
     },
     "execution_count": 208,
     "metadata": {},
     "output_type": "execute_result"
    }
   ],
   "source": [
    "# K-nearest neighbors\n",
    "from sklearn.neighbors import KNeighborsClassifier\n",
    "model = KNeighborsClassifier(n_neighbors=3)\n",
    "model.fit(X_train, y_train)\n",
    "test_model(model)"
   ]
  },
  {
   "cell_type": "code",
   "execution_count": 209,
   "id": "6e63ab28",
   "metadata": {},
   "outputs": [
    {
     "data": {
      "text/plain": [
       "0.895143570536829"
      ]
     },
     "execution_count": 209,
     "metadata": {},
     "output_type": "execute_result"
    }
   ],
   "source": [
    "# SVC\n",
    "from sklearn.svm import SVC\n",
    "model = SVC()\n",
    "model.fit(X_train, y_train)\n",
    "test_model(model)"
   ]
  },
  {
   "cell_type": "code",
   "execution_count": 210,
   "id": "08b36955",
   "metadata": {},
   "outputs": [
    {
     "data": {
      "text/plain": [
       "0.8929962546816478"
      ]
     },
     "execution_count": 210,
     "metadata": {},
     "output_type": "execute_result"
    }
   ],
   "source": [
    "# Naive Bayes\n",
    "from sklearn.naive_bayes import GaussianNB\n",
    "model = GaussianNB()\n",
    "model.fit(X_train, y_train)\n",
    "test_model(model)"
   ]
  },
  {
   "cell_type": "code",
   "execution_count": null,
   "id": "8ccd97a8",
   "metadata": {},
   "outputs": [],
   "source": []
  }
 ],
 "metadata": {
  "kernelspec": {
   "display_name": "Python 3 (ipykernel)",
   "language": "python",
   "name": "python3"
  },
  "language_info": {
   "codemirror_mode": {
    "name": "ipython",
    "version": 3
   },
   "file_extension": ".py",
   "mimetype": "text/x-python",
   "name": "python",
   "nbconvert_exporter": "python",
   "pygments_lexer": "ipython3",
   "version": "3.9.6"
  }
 },
 "nbformat": 4,
 "nbformat_minor": 5
}
