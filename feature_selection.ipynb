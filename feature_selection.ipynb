{
 "cells": [
  {
   "cell_type": "code",
   "execution_count": 17,
   "metadata": {},
   "outputs": [],
   "source": [
    "import pandas as pd\n",
    "from sklearn.preprocessing import StandardScaler\n",
    "import numpy as np"
   ]
  },
  {
   "cell_type": "code",
   "execution_count": 19,
   "metadata": {},
   "outputs": [
    {
     "data": {
      "text/html": [
       "<div>\n",
       "<style scoped>\n",
       "    .dataframe tbody tr th:only-of-type {\n",
       "        vertical-align: middle;\n",
       "    }\n",
       "\n",
       "    .dataframe tbody tr th {\n",
       "        vertical-align: top;\n",
       "    }\n",
       "\n",
       "    .dataframe thead th {\n",
       "        text-align: right;\n",
       "    }\n",
       "</style>\n",
       "<table border=\"1\" class=\"dataframe\">\n",
       "  <thead>\n",
       "    <tr style=\"text-align: right;\">\n",
       "      <th></th>\n",
       "      <th>k_degree_1</th>\n",
       "      <th>k_degree_2</th>\n",
       "      <th>eccentricity_1</th>\n",
       "      <th>eccentricity_2</th>\n",
       "      <th>triangles_1</th>\n",
       "      <th>triangles_2</th>\n",
       "      <th>clique_num_1</th>\n",
       "      <th>clique_num_2</th>\n",
       "      <th>coreness_1</th>\n",
       "      <th>coreness_2</th>\n",
       "      <th>...</th>\n",
       "      <th>adamic_adar</th>\n",
       "      <th>pref_attach</th>\n",
       "      <th>overlap_coeff</th>\n",
       "      <th>nbd_overlap</th>\n",
       "      <th>edge_conn</th>\n",
       "      <th>avg_commute_time</th>\n",
       "      <th>cosine_l</th>\n",
       "      <th>l_plus</th>\n",
       "      <th>mfi</th>\n",
       "      <th>label</th>\n",
       "    </tr>\n",
       "  </thead>\n",
       "  <tbody>\n",
       "    <tr>\n",
       "      <th>0</th>\n",
       "      <td>16</td>\n",
       "      <td>8</td>\n",
       "      <td>1.0</td>\n",
       "      <td>2.0</td>\n",
       "      <td>18</td>\n",
       "      <td>12</td>\n",
       "      <td>5</td>\n",
       "      <td>5</td>\n",
       "      <td>4</td>\n",
       "      <td>4</td>\n",
       "      <td>...</td>\n",
       "      <td>6.130717</td>\n",
       "      <td>144</td>\n",
       "      <td>0.777778</td>\n",
       "      <td>0.562500</td>\n",
       "      <td>8</td>\n",
       "      <td>0.066405</td>\n",
       "      <td>0.229471</td>\n",
       "      <td>0.027735</td>\n",
       "      <td>0.040536</td>\n",
       "      <td>1</td>\n",
       "    </tr>\n",
       "    <tr>\n",
       "      <th>1</th>\n",
       "      <td>16</td>\n",
       "      <td>6</td>\n",
       "      <td>1.0</td>\n",
       "      <td>2.0</td>\n",
       "      <td>18</td>\n",
       "      <td>10</td>\n",
       "      <td>5</td>\n",
       "      <td>5</td>\n",
       "      <td>4</td>\n",
       "      <td>4</td>\n",
       "      <td>...</td>\n",
       "      <td>2.977248</td>\n",
       "      <td>160</td>\n",
       "      <td>0.500000</td>\n",
       "      <td>0.368421</td>\n",
       "      <td>5</td>\n",
       "      <td>0.061748</td>\n",
       "      <td>0.039018</td>\n",
       "      <td>0.004185</td>\n",
       "      <td>0.032526</td>\n",
       "      <td>0</td>\n",
       "    </tr>\n",
       "    <tr>\n",
       "      <th>2</th>\n",
       "      <td>16</td>\n",
       "      <td>6</td>\n",
       "      <td>1.0</td>\n",
       "      <td>1.0</td>\n",
       "      <td>18</td>\n",
       "      <td>10</td>\n",
       "      <td>5</td>\n",
       "      <td>5</td>\n",
       "      <td>4</td>\n",
       "      <td>4</td>\n",
       "      <td>...</td>\n",
       "      <td>3.674792</td>\n",
       "      <td>96</td>\n",
       "      <td>0.833333</td>\n",
       "      <td>0.466667</td>\n",
       "      <td>5</td>\n",
       "      <td>0.051262</td>\n",
       "      <td>0.229119</td>\n",
       "      <td>0.033287</td>\n",
       "      <td>0.042635</td>\n",
       "      <td>1</td>\n",
       "    </tr>\n",
       "    <tr>\n",
       "      <th>3</th>\n",
       "      <td>16</td>\n",
       "      <td>3</td>\n",
       "      <td>1.0</td>\n",
       "      <td>1.0</td>\n",
       "      <td>18</td>\n",
       "      <td>2</td>\n",
       "      <td>5</td>\n",
       "      <td>3</td>\n",
       "      <td>4</td>\n",
       "      <td>2</td>\n",
       "      <td>...</td>\n",
       "      <td>1.631587</td>\n",
       "      <td>48</td>\n",
       "      <td>0.666667</td>\n",
       "      <td>0.266667</td>\n",
       "      <td>3</td>\n",
       "      <td>0.027576</td>\n",
       "      <td>0.282001</td>\n",
       "      <td>0.061069</td>\n",
       "      <td>0.046995</td>\n",
       "      <td>0</td>\n",
       "    </tr>\n",
       "    <tr>\n",
       "      <th>4</th>\n",
       "      <td>16</td>\n",
       "      <td>3</td>\n",
       "      <td>1.0</td>\n",
       "      <td>2.0</td>\n",
       "      <td>18</td>\n",
       "      <td>2</td>\n",
       "      <td>5</td>\n",
       "      <td>3</td>\n",
       "      <td>4</td>\n",
       "      <td>2</td>\n",
       "      <td>...</td>\n",
       "      <td>1.631587</td>\n",
       "      <td>64</td>\n",
       "      <td>0.500000</td>\n",
       "      <td>0.250000</td>\n",
       "      <td>3</td>\n",
       "      <td>0.029231</td>\n",
       "      <td>0.269451</td>\n",
       "      <td>0.056167</td>\n",
       "      <td>0.043380</td>\n",
       "      <td>0</td>\n",
       "    </tr>\n",
       "  </tbody>\n",
       "</table>\n",
       "<p>5 rows × 61 columns</p>\n",
       "</div>"
      ],
      "text/plain": [
       "   k_degree_1  k_degree_2  eccentricity_1  eccentricity_2  triangles_1  \\\n",
       "0          16           8             1.0             2.0           18   \n",
       "1          16           6             1.0             2.0           18   \n",
       "2          16           6             1.0             1.0           18   \n",
       "3          16           3             1.0             1.0           18   \n",
       "4          16           3             1.0             2.0           18   \n",
       "\n",
       "   triangles_2  clique_num_1  clique_num_2  coreness_1  coreness_2  ...  \\\n",
       "0           12             5             5           4           4  ...   \n",
       "1           10             5             5           4           4  ...   \n",
       "2           10             5             5           4           4  ...   \n",
       "3            2             5             3           4           2  ...   \n",
       "4            2             5             3           4           2  ...   \n",
       "\n",
       "   adamic_adar  pref_attach  overlap_coeff  nbd_overlap  edge_conn  \\\n",
       "0     6.130717          144       0.777778     0.562500          8   \n",
       "1     2.977248          160       0.500000     0.368421          5   \n",
       "2     3.674792           96       0.833333     0.466667          5   \n",
       "3     1.631587           48       0.666667     0.266667          3   \n",
       "4     1.631587           64       0.500000     0.250000          3   \n",
       "\n",
       "   avg_commute_time  cosine_l    l_plus       mfi  label  \n",
       "0          0.066405  0.229471  0.027735  0.040536      1  \n",
       "1          0.061748  0.039018  0.004185  0.032526      0  \n",
       "2          0.051262  0.229119  0.033287  0.042635      1  \n",
       "3          0.027576  0.282001  0.061069  0.046995      0  \n",
       "4          0.029231  0.269451  0.056167  0.043380      0  \n",
       "\n",
       "[5 rows x 61 columns]"
      ]
     },
     "execution_count": 19,
     "metadata": {},
     "output_type": "execute_result"
    }
   ],
   "source": [
    "df = pd.read_csv('dataset.csv')\n",
    "df = df.iloc[:, 3:]\n",
    "df.head()"
   ]
  },
  {
   "cell_type": "code",
   "execution_count": 8,
   "metadata": {},
   "outputs": [],
   "source": [
    "# separate array into X and Y\n",
    "df_values = df.values\n",
    "X = df_values[:,2:-1]\n",
    "Y = df_values[:,-1]\n",
    "\n",
    "# Normalize data\n",
    "scaler = StandardScaler()\n",
    "x_scaled = scaler.fit_transform(X)\n",
    "x_scaled = pd.DataFrame(x_scaled)"
   ]
  },
  {
   "cell_type": "code",
   "execution_count": 22,
   "metadata": {},
   "outputs": [],
   "source": [
    "# Feature values only\n",
    "X = df[:-1]"
   ]
  },
  {
   "cell_type": "code",
   "execution_count": 23,
   "metadata": {},
   "outputs": [
    {
     "name": "stderr",
     "output_type": "stream",
     "text": [
      "c:\\Users\\shagu\\AppData\\Local\\Programs\\Python\\Python39\\lib\\site-packages\\pandas\\core\\frame.py:3607: SettingWithCopyWarning: \n",
      "A value is trying to be set on a copy of a slice from a DataFrame.\n",
      "Try using .loc[row_indexer,col_indexer] = value instead\n",
      "\n",
      "See the caveats in the documentation: https://pandas.pydata.org/pandas-docs/stable/user_guide/indexing.html#returning-a-view-versus-a-copy\n",
      "  self._set_item(key, value)\n"
     ]
    }
   ],
   "source": [
    "# Normalize between 0 and 1\n",
    "for feature_name in X.columns:\n",
    "    max_value = X[feature_name].max()\n",
    "    min_value = X[feature_name].min()\n",
    "    if max_value != min_value:\n",
    "        X[feature_name] = (X[feature_name] - min_value) / (max_value - min_value)"
   ]
  },
  {
   "cell_type": "code",
   "execution_count": 26,
   "metadata": {},
   "outputs": [
    {
     "name": "stderr",
     "output_type": "stream",
     "text": [
      "C:\\Users\\shagu\\AppData\\Local\\Temp/ipykernel_41164/137382198.py:3: DeprecationWarning: `np.bool` is a deprecated alias for the builtin `bool`. To silence this warning, use `bool` by itself. Doing this will not modify any behavior and is safe. If you specifically wanted the numpy scalar type, use `np.bool_` here.\n",
      "Deprecated in NumPy 1.20; for more details and guidance: https://numpy.org/devdocs/release/1.20.0-notes.html#deprecations\n",
      "  upper_tri = cor_matrix.where(np.triu(np.ones(cor_matrix.shape),k=1).astype(np.bool))\n"
     ]
    },
    {
     "data": {
      "text/plain": [
       "['triangles_1',\n",
       " 'coreness_1',\n",
       " 'harmonic_centrality_1',\n",
       " 'harmonic_centrality_2',\n",
       " 'eigenvector_centrality_1',\n",
       " 'eigenvector_centrality_2',\n",
       " 'decay_centrality_1',\n",
       " 'decay_centrality_2',\n",
       " 'katz_centrality_1',\n",
       " 'rwr_1',\n",
       " 'rwr_2',\n",
       " 'lrw_1',\n",
       " 'lrw_2',\n",
       " 'pearson_similarity',\n",
       " 'hamming_distance',\n",
       " 'sorenson_dice',\n",
       " 'adamic_adar',\n",
       " 'nbd_overlap']"
      ]
     },
     "execution_count": 26,
     "metadata": {},
     "output_type": "execute_result"
    }
   ],
   "source": [
    "# Pearson coefficient for correlation\n",
    "cor_matrix = X.corr().abs()\n",
    "upper_tri = cor_matrix.where(np.triu(np.ones(cor_matrix.shape),k=1).astype(np.bool))\n",
    "to_drop = [column for column in upper_tri.columns if any(upper_tri[column] > 0.95)]\n",
    "to_drop"
   ]
  },
  {
   "cell_type": "code",
   "execution_count": 18,
   "metadata": {},
   "outputs": [
    {
     "name": "stdout",
     "output_type": "stream",
     "text": [
      "HIGHLY CORRELATED FEATURE PAIRS\n"
     ]
    },
    {
     "data": {
      "text/plain": [
       "98"
      ]
     },
     "execution_count": 18,
     "metadata": {},
     "output_type": "execute_result"
    }
   ],
   "source": [
    "high_pearsonr = corr_df[(np.abs(corr_df[\"pearsonr\"]) > 0.9)]\n",
    "print(\"HIGHLY CORRELATED FEATURE PAIRS\")\n",
    "high_pearsonr.shape[0]"
   ]
  },
  {
   "cell_type": "code",
   "execution_count": null,
   "metadata": {},
   "outputs": [],
   "source": []
  }
 ],
 "metadata": {
  "kernelspec": {
   "display_name": "Python 3.9.6 64-bit",
   "language": "python",
   "name": "python3"
  },
  "language_info": {
   "codemirror_mode": {
    "name": "ipython",
    "version": 3
   },
   "file_extension": ".py",
   "mimetype": "text/x-python",
   "name": "python",
   "nbconvert_exporter": "python",
   "pygments_lexer": "ipython3",
   "version": "3.9.6"
  },
  "orig_nbformat": 4,
  "vscode": {
   "interpreter": {
    "hash": "a70e35cc37e5d6b43581a2bbcc812898b7c7399b258b00c62cbb1ff710d022c3"
   }
  }
 },
 "nbformat": 4,
 "nbformat_minor": 2
}
