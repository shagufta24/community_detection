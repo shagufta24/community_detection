{
 "cells": [
  {
   "cell_type": "markdown",
   "id": "5e70b589",
   "metadata": {},
   "source": [
    "### Initialization"
   ]
  },
  {
   "cell_type": "code",
   "execution_count": 1,
   "id": "7f72abdd",
   "metadata": {},
   "outputs": [],
   "source": [
    "import pandas as pd\n",
    "import statistics\n",
    "import math\n",
    "import numpy as np\n",
    "import matplotlib.pyplot as plt\n",
    "%matplotlib inline"
   ]
  },
  {
   "cell_type": "code",
   "execution_count": 29,
   "id": "bf2854dd",
   "metadata": {},
   "outputs": [],
   "source": [
    "df = pd.read_csv('features_data.csv')\n",
    "comms = pd.read_csv('comms_data.csv')\n",
    "\n",
    "# Considering louvain_nx as target\n",
    "labels = comms['leiden_nx']\n",
    "df['label'] = labels\n",
    "\n",
    "# Drop extra column\n",
    "df.drop(columns = df.columns[[0,1]], axis=1, inplace=True)"
   ]
  },
  {
   "cell_type": "markdown",
   "id": "ff457716",
   "metadata": {},
   "source": [
    "For single node features, taking product of the feature values of the same node to create new features."
   ]
  },
  {
   "cell_type": "code",
   "execution_count": 30,
   "id": "8b383635",
   "metadata": {},
   "outputs": [],
   "source": [
    "# Creating product features\n",
    "\n",
    "new_col_names = ['degree', 'triangles', 'clique_number', 'coreness', 'betweenness', 'closeness', 'harmonic', 'eigenvector' , 'decay', 'pagerank', 'local_clustering_coeff', 'global_clustering_coeff', 'shannon', 'h_index', 'nbd_density', 'RWR', 'LRW']\n",
    "df2 = pd.DataFrame()\n",
    "\n",
    "for i in range(0, 33, 2):\n",
    "    df2[new_col_names[int(i/2)]] = df[df.columns[i]] * df[df.columns[i+1]]\n",
    "for i in range(34, 53):\n",
    "    col_name = df.columns[i]\n",
    "    df2[col_name] = df.iloc[:, i]\n",
    "df = df2"
   ]
  },
  {
   "cell_type": "code",
   "execution_count": 80,
   "id": "47de1bfb",
   "metadata": {},
   "outputs": [],
   "source": [
    "X = df.drop(columns=['label'], axis=1)\n",
    "y = df['label']"
   ]
  },
  {
   "cell_type": "markdown",
   "id": "13827683",
   "metadata": {},
   "source": [
    "### Data Exploration"
   ]
  },
  {
   "cell_type": "code",
   "execution_count": 82,
   "id": "42910c02",
   "metadata": {},
   "outputs": [
    {
     "data": {
      "text/plain": [
       "False"
      ]
     },
     "execution_count": 82,
     "metadata": {},
     "output_type": "execute_result"
    }
   ],
   "source": [
    "df.isnull().values.any()"
   ]
  },
  {
   "cell_type": "markdown",
   "id": "e16ef716",
   "metadata": {},
   "source": [
    "### Splitting Data"
   ]
  },
  {
   "cell_type": "code",
   "execution_count": 98,
   "id": "493dc956",
   "metadata": {},
   "outputs": [],
   "source": [
    "def split(X, y):\n",
    "    from sklearn.model_selection import train_test_split\n",
    "    return train_test_split(X, y, test_size=0.2, random_state=42, shuffle=True, stratify=y)\n",
    "    \n",
    "X_train, X_test, y_train, y_test = split(X, y)"
   ]
  },
  {
   "cell_type": "markdown",
   "id": "61b6366e",
   "metadata": {},
   "source": [
    "### Handling Imbalanced classes\n",
    "Resampling is done only on training data\n",
    "- Oversampling\n",
    "- Undersampling"
   ]
  },
  {
   "cell_type": "code",
   "execution_count": 84,
   "id": "1f53674a",
   "metadata": {},
   "outputs": [
    {
     "name": "stdout",
     "output_type": "stream",
     "text": [
      "0    415\n",
      "1    146\n",
      "Name: label, dtype: int64\n"
     ]
    },
    {
     "data": {
      "text/plain": [
       "<AxesSubplot:title={'center':'count (target)'}>"
      ]
     },
     "execution_count": 84,
     "metadata": {},
     "output_type": "execute_result"
    },
    {
     "data": {
      "image/png": "[encoded data removed]",
      "text/plain": [
       "<Figure size 432x288 with 1 Axes>"
      ]
     },
     "metadata": {
      "needs_background": "light"
     },
     "output_type": "display_data"
    }
   ],
   "source": [
    "print(df['label'].value_counts())\n",
    "df['label'].value_counts().plot(kind='bar', title='count (target)')"
   ]
  },
  {
   "cell_type": "code",
   "execution_count": 85,
   "id": "6ed031d0",
   "metadata": {},
   "outputs": [
    {
     "data": {
      "text/plain": [
       "0    331\n",
       "1    331\n",
       "Name: label, dtype: int64"
      ]
     },
     "execution_count": 85,
     "metadata": {},
     "output_type": "execute_result"
    }
   ],
   "source": [
    "from sklearn.utils import resample\n",
    "#combine them back for resampling\n",
    "train_data = pd.concat([X_train, y_train], axis=1)\n",
    "# separate minority and majority classes\n",
    "negative = train_data[train_data.label==0]\n",
    "positive = train_data[train_data.label==1]\n",
    "# upsample minority, sample with replacement, match number in majority class\n",
    "pos_upsampled = resample(positive, replace=True, n_samples=len(negative), random_state=42)\n",
    "# combine majority and upsampled minority\n",
    "upsampled = pd.concat([negative, pos_upsampled])\n",
    "# check new class counts\n",
    "upsampled.label.value_counts()"
   ]
  },
  {
   "cell_type": "code",
   "execution_count": 86,
   "id": "8a0eebc7",
   "metadata": {},
   "outputs": [],
   "source": [
    "X_train = upsampled.drop('label', axis=1)\n",
    "y_train = upsampled['label']"
   ]
  },
  {
   "cell_type": "markdown",
   "id": "9ddf6625",
   "metadata": {},
   "source": [
    "### Feature Scaling\n",
    "Always split before scaling so that test data does not get affected by training data"
   ]
  },
  {
   "cell_type": "code",
   "execution_count": 100,
   "id": "7849e5c6",
   "metadata": {},
   "outputs": [],
   "source": [
    "# # Normalization\n",
    "\n",
    "# from sklearn.preprocessing import StandardScaler\n",
    "# scaler = StandardScaler()\n",
    "# X_train_scaled = scaler.fit_transform(X_train)\n",
    "# X_test_scaled = scaler.fit_transform(X_test)\n",
    "\n",
    "# Min-Max scaling\n",
    "\n",
    "def min_max_scale(X_train, X_test):\n",
    "    from sklearn.preprocessing import MinMaxScaler\n",
    "    scaler = MinMaxScaler()\n",
    "    X_train_scaled = scaler.fit_transform(X_train)\n",
    "    X_test_scaled = scaler.fit_transform(X_test)\n",
    "    X_train = pd.DataFrame(X_train_scaled, columns = X_train.columns)\n",
    "    X_test = pd.DataFrame(X_test_scaled, columns = X_test.columns)\n",
    "    return X_train, X_test\n",
    "\n",
    "X_train, X_test = min_max_scale(X_train, X_test)"
   ]
  },
  {
   "cell_type": "markdown",
   "id": "72410757",
   "metadata": {},
   "source": [
    "### Dimensionality reduction"
   ]
  },
  {
   "cell_type": "code",
   "execution_count": 13,
   "id": "1b41fd40",
   "metadata": {},
   "outputs": [
    {
     "data": {
      "image/png": "[encoded data removed]",
      "text/plain": [
       "<Figure size 432x288 with 1 Axes>"
      ]
     },
     "metadata": {},
     "output_type": "display_data"
    }
   ],
   "source": [
    "from sklearn.preprocessing import StandardScaler\n",
    "X_std = StandardScaler().fit_transform(X)\n",
    "\n",
    "cov_mat = np.cov(X_std.T)\n",
    "eig_vals, eig_vecs = np.linalg.eig(cov_mat)\n",
    "eig_pairs = []\n",
    "for i in range(len(eig_vals)):\n",
    "    eig_pairs.append( (np.abs(eig_vals[i]), eig_vecs[:,i]))\n",
    "eig_pairs.sort(key=lambda x: x[0], reverse=True)\n",
    "total = np.sum(eig_vals)\n",
    "eig_val = 100 * eig_vals/total\n",
    "eig_val = sorted(eig_val, reverse=True)\n",
    "\n",
    "num_feats = X_std.shape[1]\n",
    "with plt.style.context('dark_background'):\n",
    "    plt.figure()\n",
    "    plt.xlabel(\"Number of Principal Components\")\n",
    "    plt.ylabel(\"Percentage of variance explained\")\n",
    "    plt.bar(range(num_feats), eig_val[:num_feats], color = \"aqua\")\n",
    "    plt.plot(range(num_feats), np.cumsum(eig_val[:num_feats]), color = \"red\")\n",
    "    plt.scatter(range(num_feats), np.cumsum(eig_val[:num_feats]), color = \"yellow\")"
   ]
  },
  {
   "cell_type": "code",
   "execution_count": 14,
   "id": "9d67fa00",
   "metadata": {},
   "outputs": [
    {
     "data": {
      "text/plain": [
       "['avg_commute_time',\n",
       " 'hub_promoted',\n",
       " 'RWR',\n",
       " 'global_clustering_coeff',\n",
       " 'triangles',\n",
       " 'overlap_coeff',\n",
       " 'L+',\n",
       " 'leicht_holme_newman',\n",
       " 'harmonic',\n",
       " 'are_connected',\n",
       " 'global_clustering_coeff',\n",
       " 'betweenness',\n",
       " 'local_clustering_coeff',\n",
       " 'betweenness',\n",
       " 'local_clustering_coeff']"
      ]
     },
     "execution_count": 14,
     "metadata": {},
     "output_type": "execute_result"
    }
   ],
   "source": [
    "# Most important features\n",
    "from sklearn.decomposition import PCA\n",
    "model = PCA(n_components=15).fit(X_std)\n",
    "X_pca = model.transform(X_std)\n",
    "n_pcs= model.components_.shape[0]\n",
    "most_important = [np.abs(model.components_[i]).argmax() for i in range(n_pcs)]\n",
    "initial_feature_names = X.columns\n",
    "most_important_names = [initial_feature_names[most_important[i]] for i in range(n_pcs)]\n",
    "dic = {'PC{}'.format(i+1): most_important_names[i] for i in range(n_pcs)}\n",
    "# imp_features = pd.DataFrame(sorted(dic.items()))\n",
    "imp_features = [item[1] for item in list(sorted(dic.items()))]\n",
    "imp_features"
   ]
  },
  {
   "cell_type": "markdown",
   "id": "5bb22d59",
   "metadata": {},
   "source": [
    "### Feature Selection techniques\n",
    "- Variance\n",
    "- Pearson correlation coefficient\n",
    "- Information gain\n",
    "- Chi square\n",
    "- ANOVA F-value\n",
    "- Recursive Feature Elimination"
   ]
  },
  {
   "cell_type": "code",
   "execution_count": 38,
   "id": "a75d6e9c",
   "metadata": {},
   "outputs": [
    {
     "data": {
      "text/plain": [
       "['shannon']"
      ]
     },
     "execution_count": 38,
     "metadata": {},
     "output_type": "execute_result"
    }
   ],
   "source": [
    "# Low variance features\n",
    "\n",
    "from sklearn.feature_selection import VarianceThreshold\n",
    "variance_threshold = VarianceThreshold(threshold = 0)\n",
    "variance_threshold.fit(X_train)\n",
    "res = variance_threshold.get_support()\n",
    "const_columns = X_train.columns[res == False]\n",
    "# X_train.drop(const_columns, axis = 1)\n",
    "# X_test.drop(const_columns, axis = 1)\n",
    "[col for col in const_columns]"
   ]
  },
  {
   "cell_type": "code",
   "execution_count": 60,
   "id": "3b61ea3a",
   "metadata": {},
   "outputs": [
    {
     "data": {
      "text/plain": [
       "{'L+',\n",
       " 'LRW',\n",
       " 'adamic_adar',\n",
       " 'clique_number',\n",
       " 'closeness',\n",
       " 'coreness',\n",
       " 'cosine_L+',\n",
       " 'decay',\n",
       " 'degree',\n",
       " 'eigenvector',\n",
       " 'harmonic',\n",
       " 'hub_depressed',\n",
       " 'jaccard_index',\n",
       " 'leicht_holme_newman',\n",
       " 'matrix_forest_index',\n",
       " 'nbd_overlap',\n",
       " 'pref_attachment',\n",
       " 'resource_allocation',\n",
       " 'sorenson_dice'}"
      ]
     },
     "execution_count": 60,
     "metadata": {},
     "output_type": "execute_result"
    }
   ],
   "source": [
    "# Feature pairs with pearson correlation > 0.9\n",
    "\n",
    "corr = X.corr().abs().unstack().sort_values(ascending=False).to_frame().reset_index()\n",
    "corr = corr[corr['level_0'] != corr['level_1']]\n",
    "top_corr = corr[corr[0] > 0.9]\n",
    "pairs = set([(top_corr['level_0'].iloc[i], top_corr['level_1'].iloc[i]) for i in range(len(top_corr))])\n",
    "pairs\n",
    "# print(\"No. of features before: \", df.shape[1])\n",
    "\n",
    "# Dropping columns\n",
    "# for pair in pairs:\n",
    "#     cols = df.columns\n",
    "#     if pair[0] in cols and pair[1] in cols:\n",
    "#         df.drop(pair[0], axis=1, inplace=True)\n",
    "\n",
    "# print(\"No. of features after: \", df.shape[1])\n",
    "unique = set()\n",
    "for pair in pairs:\n",
    "    unique.add(pair[0])\n",
    "    unique.add(pair[1])\n",
    "unique"
   ]
  },
  {
   "cell_type": "code",
   "execution_count": 66,
   "id": "3f9626ec",
   "metadata": {},
   "outputs": [
    {
     "name": "stdout",
     "output_type": "stream",
     "text": [
      "corr of  jaccard_index  is  0.30690975789234876\n",
      "corr of  nbd_overlap  is  0.27953520003260224\n",
      "Dropped  nbd_overlap\n",
      "corr of  L+  is  0.24971987335282023\n",
      "corr of  matrix_forest_index  is  0.2692938814278203\n",
      "Dropped  L+\n",
      "corr of  cosine_L+  is  0.30380548505341415\n",
      "corr of  matrix_forest_index  is  0.2692938814278203\n",
      "Dropped  matrix_forest_index\n",
      "matrix_forest_index  already dropped\n",
      "corr of  hub_depressed  is  0.21192205171634415\n",
      "corr of  leicht_holme_newman  is  0.17779421514013954\n",
      "Dropped  leicht_holme_newman\n",
      "corr of  coreness  is  0.05589766361031488\n",
      "corr of  clique_number  is  0.049676683561731445\n",
      "Dropped  clique_number\n",
      "corr of  decay  is  0.017005984426455324\n",
      "corr of  pref_attachment  is  0.013697615686542888\n",
      "Dropped  pref_attachment\n",
      "corr of  degree  is  0.013697615686542888\n",
      "corr of  LRW  is  0.006816808566596234\n",
      "Dropped  LRW\n",
      "corr of  degree  is  0.013697615686542888\n",
      "corr of  decay  is  0.017005984426455324\n",
      "Dropped  degree\n",
      "leicht_holme_newman  already dropped\n",
      "nbd_overlap  already dropped\n",
      "nbd_overlap  already dropped\n",
      "corr of  jaccard_index  is  0.30690975789234876\n",
      "corr of  sorenson_dice  is  0.3021709822859449\n",
      "Dropped  sorenson_dice\n",
      "LRW  already dropped\n",
      "sorenson_dice  already dropped\n",
      "pref_attachment  already dropped\n",
      "nbd_overlap  already dropped\n",
      "corr of  resource_allocation  is  0.14583481963903763\n",
      "corr of  adamic_adar  is  0.17725165545214958\n",
      "Dropped  resource_allocation\n",
      "LRW  already dropped\n",
      "corr of  harmonic  is  -0.01214011615393279\n",
      "corr of  eigenvector  is  -0.01092962420507065\n",
      "Dropped  harmonic\n",
      "degree  already dropped\n",
      "harmonic  already dropped\n",
      "pref_attachment  already dropped\n",
      "LRW  already dropped\n",
      "corr of  closeness  is  -0.005091194299791559\n",
      "corr of  eigenvector  is  -0.01092962420507065\n",
      "Dropped  eigenvector\n",
      "pref_attachment  already dropped\n",
      "L+  already dropped\n",
      "eigenvector  already dropped\n",
      "L+  already dropped\n",
      "clique_number  already dropped\n",
      "harmonic  already dropped\n",
      "matrix_forest_index  already dropped\n",
      "degree  already dropped\n",
      "harmonic  already dropped\n",
      "LRW  already dropped\n",
      "resource_allocation  already dropped\n"
     ]
    },
    {
     "data": {
      "text/plain": [
       "{'adamic_adar',\n",
       " 'closeness',\n",
       " 'coreness',\n",
       " 'cosine_L+',\n",
       " 'decay',\n",
       " 'hub_depressed',\n",
       " 'jaccard_index'}"
      ]
     },
     "execution_count": 66,
     "metadata": {},
     "output_type": "execute_result"
    }
   ],
   "source": [
    "drops = []\n",
    "for pair in pairs:\n",
    "    if pair[0] in drops:\n",
    "        print(pair[0], ' already dropped')\n",
    "        continue\n",
    "    if pair[1] in drops:\n",
    "        print(pair[1], ' already dropped')\n",
    "        continue\n",
    "    corr1 = X[pair[0]].corr(y)\n",
    "    print('corr of ', pair[0], ' is ', corr1)\n",
    "    corr2 = X[pair[1]].corr(y)\n",
    "    print('corr of ', pair[1], ' is ', corr2)\n",
    "    if corr1 >= corr2: \n",
    "        drops.append(pair[1])\n",
    "        print('Dropped ', pair[1])\n",
    "    else: \n",
    "        drops.append(pair[0])\n",
    "        print('Dropped ', pair[0])"
   ]
  },
  {
   "cell_type": "code",
   "execution_count": 79,
   "id": "9ff7d717",
   "metadata": {},
   "outputs": [
    {
     "data": {
      "text/html": [
       "<div>\n",
       "<style scoped>\n",
       "    .dataframe tbody tr th:only-of-type {\n",
       "        vertical-align: middle;\n",
       "    }\n",
       "\n",
       "    .dataframe tbody tr th {\n",
       "        vertical-align: top;\n",
       "    }\n",
       "\n",
       "    .dataframe thead th {\n",
       "        text-align: right;\n",
       "    }\n",
       "</style>\n",
       "<table border=\"1\" class=\"dataframe\">\n",
       "  <thead>\n",
       "    <tr style=\"text-align: right;\">\n",
       "      <th></th>\n",
       "      <th>triangles</th>\n",
       "      <th>coreness</th>\n",
       "      <th>betweenness</th>\n",
       "      <th>closeness</th>\n",
       "      <th>decay</th>\n",
       "      <th>pagerank</th>\n",
       "      <th>local_clustering_coeff</th>\n",
       "      <th>global_clustering_coeff</th>\n",
       "      <th>shannon</th>\n",
       "      <th>h_index</th>\n",
       "      <th>...</th>\n",
       "      <th>common_neighbors</th>\n",
       "      <th>jaccard_index</th>\n",
       "      <th>hub_promoted</th>\n",
       "      <th>hub_depressed</th>\n",
       "      <th>adamic_adar</th>\n",
       "      <th>overlap_coeff</th>\n",
       "      <th>edge_connectivity</th>\n",
       "      <th>avg_commute_time</th>\n",
       "      <th>cosine_L+</th>\n",
       "      <th>label</th>\n",
       "    </tr>\n",
       "  </thead>\n",
       "  <tbody>\n",
       "    <tr>\n",
       "      <th>0</th>\n",
       "      <td>216</td>\n",
       "      <td>16</td>\n",
       "      <td>685.229167</td>\n",
       "      <td>0.900000</td>\n",
       "      <td>40.00</td>\n",
       "      <td>0.040842</td>\n",
       "      <td>0.064286</td>\n",
       "      <td>0.208608</td>\n",
       "      <td>1.0</td>\n",
       "      <td>20</td>\n",
       "      <td>...</td>\n",
       "      <td>9</td>\n",
       "      <td>0.500000</td>\n",
       "      <td>0.777778</td>\n",
       "      <td>0.437500</td>\n",
       "      <td>6.130717</td>\n",
       "      <td>0.777778</td>\n",
       "      <td>8</td>\n",
       "      <td>0.066405</td>\n",
       "      <td>0.229471</td>\n",
       "      <td>1</td>\n",
       "    </tr>\n",
       "    <tr>\n",
       "      <th>1</th>\n",
       "      <td>180</td>\n",
       "      <td>16</td>\n",
       "      <td>198.937500</td>\n",
       "      <td>0.714286</td>\n",
       "      <td>44.00</td>\n",
       "      <td>0.029373</td>\n",
       "      <td>0.100000</td>\n",
       "      <td>0.203804</td>\n",
       "      <td>1.0</td>\n",
       "      <td>25</td>\n",
       "      <td>...</td>\n",
       "      <td>7</td>\n",
       "      <td>0.333333</td>\n",
       "      <td>0.500000</td>\n",
       "      <td>0.312500</td>\n",
       "      <td>2.977248</td>\n",
       "      <td>0.500000</td>\n",
       "      <td>5</td>\n",
       "      <td>0.061748</td>\n",
       "      <td>0.039018</td>\n",
       "      <td>1</td>\n",
       "    </tr>\n",
       "    <tr>\n",
       "      <th>2</th>\n",
       "      <td>180</td>\n",
       "      <td>16</td>\n",
       "      <td>198.937500</td>\n",
       "      <td>1.000000</td>\n",
       "      <td>28.00</td>\n",
       "      <td>0.041458</td>\n",
       "      <td>0.100000</td>\n",
       "      <td>0.293306</td>\n",
       "      <td>1.0</td>\n",
       "      <td>20</td>\n",
       "      <td>...</td>\n",
       "      <td>7</td>\n",
       "      <td>0.411765</td>\n",
       "      <td>0.833333</td>\n",
       "      <td>0.312500</td>\n",
       "      <td>3.674792</td>\n",
       "      <td>0.833333</td>\n",
       "      <td>5</td>\n",
       "      <td>0.051262</td>\n",
       "      <td>0.229119</td>\n",
       "      <td>1</td>\n",
       "    </tr>\n",
       "    <tr>\n",
       "      <th>3</th>\n",
       "      <td>36</td>\n",
       "      <td>8</td>\n",
       "      <td>44.208333</td>\n",
       "      <td>1.000000</td>\n",
       "      <td>16.00</td>\n",
       "      <td>0.066395</td>\n",
       "      <td>0.100000</td>\n",
       "      <td>0.271739</td>\n",
       "      <td>1.0</td>\n",
       "      <td>15</td>\n",
       "      <td>...</td>\n",
       "      <td>4</td>\n",
       "      <td>0.235294</td>\n",
       "      <td>0.666667</td>\n",
       "      <td>0.125000</td>\n",
       "      <td>1.631587</td>\n",
       "      <td>0.666667</td>\n",
       "      <td>3</td>\n",
       "      <td>0.027576</td>\n",
       "      <td>0.282001</td>\n",
       "      <td>0</td>\n",
       "    </tr>\n",
       "    <tr>\n",
       "      <th>4</th>\n",
       "      <td>36</td>\n",
       "      <td>8</td>\n",
       "      <td>44.208333</td>\n",
       "      <td>0.800000</td>\n",
       "      <td>20.00</td>\n",
       "      <td>0.047772</td>\n",
       "      <td>0.100000</td>\n",
       "      <td>0.232919</td>\n",
       "      <td>1.0</td>\n",
       "      <td>15</td>\n",
       "      <td>...</td>\n",
       "      <td>4</td>\n",
       "      <td>0.222222</td>\n",
       "      <td>0.500000</td>\n",
       "      <td>0.125000</td>\n",
       "      <td>1.631587</td>\n",
       "      <td>0.500000</td>\n",
       "      <td>3</td>\n",
       "      <td>0.029231</td>\n",
       "      <td>0.269451</td>\n",
       "      <td>0</td>\n",
       "    </tr>\n",
       "    <tr>\n",
       "      <th>...</th>\n",
       "      <td>...</td>\n",
       "      <td>...</td>\n",
       "      <td>...</td>\n",
       "      <td>...</td>\n",
       "      <td>...</td>\n",
       "      <td>...</td>\n",
       "      <td>...</td>\n",
       "      <td>...</td>\n",
       "      <td>...</td>\n",
       "      <td>...</td>\n",
       "      <td>...</td>\n",
       "      <td>...</td>\n",
       "      <td>...</td>\n",
       "      <td>...</td>\n",
       "      <td>...</td>\n",
       "      <td>...</td>\n",
       "      <td>...</td>\n",
       "      <td>...</td>\n",
       "      <td>...</td>\n",
       "      <td>...</td>\n",
       "      <td>...</td>\n",
       "    </tr>\n",
       "    <tr>\n",
       "      <th>556</th>\n",
       "      <td>0</td>\n",
       "      <td>9</td>\n",
       "      <td>0.000000</td>\n",
       "      <td>0.311688</td>\n",
       "      <td>21.00</td>\n",
       "      <td>0.004016</td>\n",
       "      <td>0.000000</td>\n",
       "      <td>0.251748</td>\n",
       "      <td>1.0</td>\n",
       "      <td>20</td>\n",
       "      <td>...</td>\n",
       "      <td>4</td>\n",
       "      <td>0.285714</td>\n",
       "      <td>0.500000</td>\n",
       "      <td>0.166667</td>\n",
       "      <td>0.974291</td>\n",
       "      <td>0.500000</td>\n",
       "      <td>1</td>\n",
       "      <td>0.038263</td>\n",
       "      <td>0.182668</td>\n",
       "      <td>1</td>\n",
       "    </tr>\n",
       "    <tr>\n",
       "      <th>557</th>\n",
       "      <td>0</td>\n",
       "      <td>9</td>\n",
       "      <td>0.000000</td>\n",
       "      <td>0.313364</td>\n",
       "      <td>28.50</td>\n",
       "      <td>0.004169</td>\n",
       "      <td>0.000000</td>\n",
       "      <td>0.185455</td>\n",
       "      <td>1.0</td>\n",
       "      <td>20</td>\n",
       "      <td>...</td>\n",
       "      <td>4</td>\n",
       "      <td>0.210526</td>\n",
       "      <td>0.500000</td>\n",
       "      <td>0.117647</td>\n",
       "      <td>1.023765</td>\n",
       "      <td>0.500000</td>\n",
       "      <td>1</td>\n",
       "      <td>0.040218</td>\n",
       "      <td>0.151622</td>\n",
       "      <td>0</td>\n",
       "    </tr>\n",
       "    <tr>\n",
       "      <th>558</th>\n",
       "      <td>0</td>\n",
       "      <td>6</td>\n",
       "      <td>0.000000</td>\n",
       "      <td>0.297521</td>\n",
       "      <td>24.50</td>\n",
       "      <td>0.002948</td>\n",
       "      <td>0.000000</td>\n",
       "      <td>0.128735</td>\n",
       "      <td>1.0</td>\n",
       "      <td>15</td>\n",
       "      <td>...</td>\n",
       "      <td>3</td>\n",
       "      <td>0.176471</td>\n",
       "      <td>0.166667</td>\n",
       "      <td>0.083333</td>\n",
       "      <td>0.352956</td>\n",
       "      <td>0.166667</td>\n",
       "      <td>1</td>\n",
       "      <td>0.043362</td>\n",
       "      <td>0.130269</td>\n",
       "      <td>0</td>\n",
       "    </tr>\n",
       "    <tr>\n",
       "      <th>559</th>\n",
       "      <td>0</td>\n",
       "      <td>6</td>\n",
       "      <td>0.000000</td>\n",
       "      <td>0.299120</td>\n",
       "      <td>33.25</td>\n",
       "      <td>0.003061</td>\n",
       "      <td>0.000000</td>\n",
       "      <td>0.094835</td>\n",
       "      <td>1.0</td>\n",
       "      <td>15</td>\n",
       "      <td>...</td>\n",
       "      <td>4</td>\n",
       "      <td>0.190476</td>\n",
       "      <td>0.333333</td>\n",
       "      <td>0.117647</td>\n",
       "      <td>1.312669</td>\n",
       "      <td>0.333333</td>\n",
       "      <td>1</td>\n",
       "      <td>0.048484</td>\n",
       "      <td>0.134191</td>\n",
       "      <td>1</td>\n",
       "    </tr>\n",
       "    <tr>\n",
       "      <th>560</th>\n",
       "      <td>3</td>\n",
       "      <td>9</td>\n",
       "      <td>0.000000</td>\n",
       "      <td>0.299120</td>\n",
       "      <td>66.50</td>\n",
       "      <td>0.002050</td>\n",
       "      <td>1.000000</td>\n",
       "      <td>0.072950</td>\n",
       "      <td>1.0</td>\n",
       "      <td>25</td>\n",
       "      <td>...</td>\n",
       "      <td>12</td>\n",
       "      <td>0.631579</td>\n",
       "      <td>0.833333</td>\n",
       "      <td>0.588235</td>\n",
       "      <td>10.456951</td>\n",
       "      <td>0.833333</td>\n",
       "      <td>2</td>\n",
       "      <td>0.090149</td>\n",
       "      <td>0.350302</td>\n",
       "      <td>0</td>\n",
       "    </tr>\n",
       "  </tbody>\n",
       "</table>\n",
       "<p>561 rows × 24 columns</p>\n",
       "</div>"
      ],
      "text/plain": [
       "     triangles  coreness  betweenness  closeness  decay  pagerank  \\\n",
       "0          216        16   685.229167   0.900000  40.00  0.040842   \n",
       "1          180        16   198.937500   0.714286  44.00  0.029373   \n",
       "2          180        16   198.937500   1.000000  28.00  0.041458   \n",
       "3           36         8    44.208333   1.000000  16.00  0.066395   \n",
       "4           36         8    44.208333   0.800000  20.00  0.047772   \n",
       "..         ...       ...          ...        ...    ...       ...   \n",
       "556          0         9     0.000000   0.311688  21.00  0.004016   \n",
       "557          0         9     0.000000   0.313364  28.50  0.004169   \n",
       "558          0         6     0.000000   0.297521  24.50  0.002948   \n",
       "559          0         6     0.000000   0.299120  33.25  0.003061   \n",
       "560          3         9     0.000000   0.299120  66.50  0.002050   \n",
       "\n",
       "     local_clustering_coeff  global_clustering_coeff  shannon  h_index  ...  \\\n",
       "0                  0.064286                 0.208608      1.0       20  ...   \n",
       "1                  0.100000                 0.203804      1.0       25  ...   \n",
       "2                  0.100000                 0.293306      1.0       20  ...   \n",
       "3                  0.100000                 0.271739      1.0       15  ...   \n",
       "4                  0.100000                 0.232919      1.0       15  ...   \n",
       "..                      ...                      ...      ...      ...  ...   \n",
       "556                0.000000                 0.251748      1.0       20  ...   \n",
       "557                0.000000                 0.185455      1.0       20  ...   \n",
       "558                0.000000                 0.128735      1.0       15  ...   \n",
       "559                0.000000                 0.094835      1.0       15  ...   \n",
       "560                1.000000                 0.072950      1.0       25  ...   \n",
       "\n",
       "     common_neighbors  jaccard_index  hub_promoted  hub_depressed  \\\n",
       "0                   9       0.500000      0.777778       0.437500   \n",
       "1                   7       0.333333      0.500000       0.312500   \n",
       "2                   7       0.411765      0.833333       0.312500   \n",
       "3                   4       0.235294      0.666667       0.125000   \n",
       "4                   4       0.222222      0.500000       0.125000   \n",
       "..                ...            ...           ...            ...   \n",
       "556                 4       0.285714      0.500000       0.166667   \n",
       "557                 4       0.210526      0.500000       0.117647   \n",
       "558                 3       0.176471      0.166667       0.083333   \n",
       "559                 4       0.190476      0.333333       0.117647   \n",
       "560                12       0.631579      0.833333       0.588235   \n",
       "\n",
       "     adamic_adar  overlap_coeff  edge_connectivity  avg_commute_time  \\\n",
       "0       6.130717       0.777778                  8          0.066405   \n",
       "1       2.977248       0.500000                  5          0.061748   \n",
       "2       3.674792       0.833333                  5          0.051262   \n",
       "3       1.631587       0.666667                  3          0.027576   \n",
       "4       1.631587       0.500000                  3          0.029231   \n",
       "..           ...            ...                ...               ...   \n",
       "556     0.974291       0.500000                  1          0.038263   \n",
       "557     1.023765       0.500000                  1          0.040218   \n",
       "558     0.352956       0.166667                  1          0.043362   \n",
       "559     1.312669       0.333333                  1          0.048484   \n",
       "560    10.456951       0.833333                  2          0.090149   \n",
       "\n",
       "     cosine_L+  label  \n",
       "0     0.229471      1  \n",
       "1     0.039018      1  \n",
       "2     0.229119      1  \n",
       "3     0.282001      0  \n",
       "4     0.269451      0  \n",
       "..         ...    ...  \n",
       "556   0.182668      1  \n",
       "557   0.151622      0  \n",
       "558   0.130269      0  \n",
       "559   0.134191      1  \n",
       "560   0.350302      0  \n",
       "\n",
       "[561 rows x 24 columns]"
      ]
     },
     "execution_count": 79,
     "metadata": {},
     "output_type": "execute_result"
    }
   ],
   "source": [
    "# Features to be kept\n",
    "new_cols = set(X.columns) - set(drops)\n",
    "df = df.drop(columns = drops)\n",
    "df"
   ]
  },
  {
   "cell_type": "code",
   "execution_count": 101,
   "id": "cc3de308",
   "metadata": {},
   "outputs": [
    {
     "data": {
      "text/plain": [
       "decay                      0.000000\n",
       "global_clustering_coeff    0.000000\n",
       "h_index                    0.000040\n",
       "closeness                  0.003732\n",
       "shannon                    0.016791\n",
       "local_clustering_coeff     0.019047\n",
       "betweenness                0.020701\n",
       "are_connected              0.025042\n",
       "edge_connectivity          0.031643\n",
       "pagerank                   0.033720\n",
       "avg_commute_time           0.037045\n",
       "nbd_density                0.037081\n",
       "hub_promoted               0.045640\n",
       "common_triangles           0.047458\n",
       "hub_depressed              0.048397\n",
       "overlap_coeff              0.049405\n",
       "coreness                   0.057861\n",
       "cosine_L+                  0.058301\n",
       "common_neighbors           0.066688\n",
       "jaccard_index              0.068063\n",
       "triangles                  0.071187\n",
       "adamic_adar                0.071486\n",
       "RWR                        0.072979\n",
       "dtype: float64"
      ]
     },
     "execution_count": 101,
     "metadata": {},
     "output_type": "execute_result"
    }
   ],
   "source": [
    "# Information gain\n",
    "\n",
    "from sklearn.feature_selection import mutual_info_classif\n",
    "importances = mutual_info_classif(X_train, y_train)\n",
    "feature_importances = pd.Series(importances, X_train.columns)\n",
    "\n",
    "# Plotting\n",
    "# plt.figure(figsize=(10,8))\n",
    "# feature_importances.plot(kind='barh')\n",
    "# plt.show\n",
    "\n",
    "feature_importances.sort_values()"
   ]
  },
  {
   "cell_type": "code",
   "execution_count": 18,
   "id": "afaa8ea7",
   "metadata": {},
   "outputs": [
    {
     "data": {
      "text/plain": [
       "['are_connected',\n",
       " 'common_neighbors',\n",
       " 'jaccard_index',\n",
       " 'sorenson_dice',\n",
       " 'hub_promoted',\n",
       " 'overlap_coeff',\n",
       " 'nbd_overlap',\n",
       " 'cosine_L+',\n",
       " 'L+',\n",
       " 'matrix_forest_index']"
      ]
     },
     "execution_count": 18,
     "metadata": {},
     "output_type": "execute_result"
    }
   ],
   "source": [
    "# Chi-square test\n",
    "\n",
    "from sklearn.feature_selection import SelectKBest\n",
    "from sklearn.feature_selection import chi2\n",
    "num_feats = 10\n",
    "\n",
    "chi_selector = SelectKBest(chi2, k=num_feats)\n",
    "chi_selector.fit(X_train, y_train)\n",
    "chi_support = chi_selector.get_support()\n",
    "chi_features = X.loc[:,chi_support].columns.tolist()\n",
    "chi_features"
   ]
  },
  {
   "cell_type": "code",
   "execution_count": 19,
   "id": "e8631788",
   "metadata": {},
   "outputs": [
    {
     "name": "stderr",
     "output_type": "stream",
     "text": [
      "c:\\users\\shagu\\appdata\\local\\programs\\python\\python39\\lib\\site-packages\\sklearn\\feature_selection\\_univariate_selection.py:112: UserWarning: Features [12] are constant.\n",
      "  warnings.warn(\"Features %s are constant.\" % constant_features_idx, UserWarning)\n",
      "c:\\users\\shagu\\appdata\\local\\programs\\python\\python39\\lib\\site-packages\\sklearn\\feature_selection\\_univariate_selection.py:113: RuntimeWarning: invalid value encountered in true_divide\n",
      "  f = msb / msw\n"
     ]
    },
    {
     "data": {
      "text/plain": [
       "['are_connected',\n",
       " 'common_neighbors',\n",
       " 'jaccard_index',\n",
       " 'sorenson_dice',\n",
       " 'hub_promoted',\n",
       " 'overlap_coeff',\n",
       " 'nbd_overlap',\n",
       " 'cosine_L+',\n",
       " 'L+',\n",
       " 'matrix_forest_index']"
      ]
     },
     "execution_count": 19,
     "metadata": {},
     "output_type": "execute_result"
    }
   ],
   "source": [
    "# ANOVA\n",
    "\n",
    "from sklearn.feature_selection import f_classif\n",
    "num_feats = 10\n",
    "\n",
    "f_selector = SelectKBest(f_classif, k=num_feats)\n",
    "f_selector.fit(X_train, y_train)\n",
    "f_support = chi_selector.get_support()\n",
    "f_features = X.loc[:,chi_support].columns.tolist()\n",
    "f_features"
   ]
  },
  {
   "cell_type": "code",
   "execution_count": 20,
   "id": "f34514fd",
   "metadata": {},
   "outputs": [
    {
     "name": "stdout",
     "output_type": "stream",
     "text": [
      "Fitting estimator with 35 features.\n",
      "Fitting estimator with 25 features.\n",
      "Fitting estimator with 15 features.\n",
      "10 selected features\n"
     ]
    },
    {
     "data": {
      "text/plain": [
       "['clique_number',\n",
       " 'coreness',\n",
       " 'betweenness',\n",
       " 'sorenson_dice',\n",
       " 'adamic_adar',\n",
       " 'nbd_overlap',\n",
       " 'avg_commute_time',\n",
       " 'cosine_L+',\n",
       " 'L+',\n",
       " 'matrix_forest_index']"
      ]
     },
     "execution_count": 20,
     "metadata": {},
     "output_type": "execute_result"
    }
   ],
   "source": [
    "# RFE\n",
    "\n",
    "from sklearn.feature_selection import RFE\n",
    "from sklearn.linear_model import LogisticRegression\n",
    "rfe_selector = RFE(estimator=LogisticRegression(), n_features_to_select=num_feats, step=10, verbose=5)\n",
    "rfe_selector.fit(X_train, y_train)\n",
    "rfe_support = rfe_selector.get_support()\n",
    "rfe_feature = X.loc[:,rfe_support].columns.tolist()\n",
    "print(str(len(rfe_feature)), 'selected features')\n",
    "rfe_feature"
   ]
  },
  {
   "cell_type": "markdown",
   "id": "ec2e94d0",
   "metadata": {},
   "source": [
    "### Training models\n",
    "- Logistic Regression\n",
    "- K-nearest neighbors\n",
    "- Support vector classifier\n",
    "- Naive Bayes\n",
    "- Random Forest"
   ]
  },
  {
   "cell_type": "code",
   "execution_count": 21,
   "id": "4715dd1d",
   "metadata": {},
   "outputs": [],
   "source": [
    "from sklearn.metrics import ConfusionMatrixDisplay\n",
    "from sklearn.model_selection import RepeatedStratifiedKFold\n",
    "from sklearn.pipeline import Pipeline\n",
    "from sklearn.model_selection import cross_val_score"
   ]
  },
  {
   "cell_type": "markdown",
   "id": "28fcd86e",
   "metadata": {},
   "source": [
    "**Performance evaluation metrics:**\n",
    "<br>\n",
    "Accuracy: Ratio of correctly predicted observations to the total observations.\n",
    "<br>`TP+TN/TP+FP+FN+TN`\n",
    "\n",
    "Precision: Ratio of correctly predicted positive observations to the total predicted positive observations. High precision relates to the low false positive rate.\n",
    "<br>`TP/TP+FP`\n",
    "\n",
    "Recall (Sensitivity): ratio of correctly predicted positive observations to the all observations in actual class.\n",
    "<br>`TP/TP+FN`\n",
    "\n",
    "F1 score: weighted average of Precision and Recall. If the cost of false positives and false negatives are very different, it’s better to look at both Precision and Recall.\n",
    "<br>`2*(Recall * Precision) / (Recall + Precision)`"
   ]
  },
  {
   "cell_type": "code",
   "execution_count": 22,
   "id": "065bb0a4",
   "metadata": {},
   "outputs": [],
   "source": [
    "# Cross validation to test model accuracy\n",
    "\n",
    "def test_model(model):\n",
    "    ConfusionMatrixDisplay.from_estimator(model, X_test, y_test, cmap = 'Blues')\n",
    "    plt.show()\n",
    "    cv = RepeatedStratifiedKFold(n_splits=5, n_repeats=2, random_state=42)\n",
    "    print(\"Accuracy: \", np.mean(cross_val_score(model, X_train, y_train, cv=cv, scoring=\"accuracy\")))\n",
    "    print(\"Precision: \", np.mean(cross_val_score(model, X_train, y_train, cv=cv, scoring=\"precision\")))\n",
    "    print(\"Recall: \", np.mean(cross_val_score(model, X_train, y_train, cv=cv, scoring=\"recall\")))\n",
    "    print(\"F1-score: \", np.mean(cross_val_score(model, X_train, y_train, cv=cv, scoring=\"f1\")))"
   ]
  },
  {
   "cell_type": "code",
   "execution_count": 88,
   "id": "2427c84e",
   "metadata": {},
   "outputs": [
    {
     "data": {
      "image/png": "[encoded data removed]",
      "text/plain": [
       "<Figure size 432x288 with 2 Axes>"
      ]
     },
     "metadata": {
      "needs_background": "light"
     },
     "output_type": "display_data"
    },
    {
     "name": "stdout",
     "output_type": "stream",
     "text": [
      "Accuracy:  0.6834415584415584\n",
      "Precision:  0.7042506646325879\n",
      "Recall:  0.6403663500678427\n",
      "F1-score:  0.6676899729990142\n"
     ]
    }
   ],
   "source": [
    "# Logistic Regression\n",
    "from sklearn.linear_model import LogisticRegression\n",
    "steps = [\n",
    "    (\"PCA\", PCA(n_components=15)),\n",
    "    (\"model\", LogisticRegression(class_weight=\"balanced\")),\n",
    "]\n",
    "model = Pipeline(steps=steps)\n",
    "model.fit(X_train, y_train)\n",
    "y_pred = model.predict(X_test)\n",
    "test_model(model)"
   ]
  },
  {
   "cell_type": "code",
   "execution_count": 89,
   "id": "7fad6716",
   "metadata": {},
   "outputs": [
    {
     "data": {
      "image/png": "[encoded data removed]",
      "text/plain": [
       "<Figure size 432x288 with 2 Axes>"
      ]
     },
     "metadata": {
      "needs_background": "light"
     },
     "output_type": "display_data"
    },
    {
     "name": "stdout",
     "output_type": "stream",
     "text": [
      "Accuracy:  0.6819434951013899\n",
      "Precision:  0.7025561141040871\n",
      "Recall:  0.6403889642695614\n",
      "F1-score:  0.6668615559925002\n"
     ]
    }
   ],
   "source": [
    "# Logistic Regression\n",
    "from sklearn.linear_model import LogisticRegression\n",
    "model = LogisticRegression(class_weight=\"balanced\")\n",
    "model.fit(X_train, y_train)\n",
    "y_pred = model.predict(X_test)\n",
    "test_model(model)"
   ]
  },
  {
   "cell_type": "code",
   "execution_count": 90,
   "id": "47d53518",
   "metadata": {},
   "outputs": [
    {
     "data": {
      "image/png": "[encoded data removed]",
      "text/plain": [
       "<Figure size 432x288 with 2 Axes>"
      ]
     },
     "metadata": {
      "needs_background": "light"
     },
     "output_type": "display_data"
    },
    {
     "name": "stdout",
     "output_type": "stream",
     "text": [
      "Accuracy:  0.777967646388699\n",
      "Precision:  0.7682831131857808\n",
      "Recall:  0.7989145183175034\n",
      "F1-score:  0.7823012384434815\n"
     ]
    }
   ],
   "source": [
    "# K-nearest neighbors\n",
    "from sklearn.neighbors import KNeighborsClassifier\n",
    "model = KNeighborsClassifier(n_neighbors=3)\n",
    "model.fit(X_train, y_train)\n",
    "test_model(model)"
   ]
  },
  {
   "cell_type": "code",
   "execution_count": 91,
   "id": "6e63ab28",
   "metadata": {},
   "outputs": [
    {
     "data": {
      "image/png": "[encoded data removed]",
      "text/plain": [
       "<Figure size 432x288 with 2 Axes>"
      ]
     },
     "metadata": {
      "needs_background": "light"
     },
     "output_type": "display_data"
    },
    {
     "name": "stdout",
     "output_type": "stream",
     "text": [
      "Accuracy:  0.6894907723855093\n",
      "Precision:  0.7616194172113289\n",
      "Recall:  0.5572817729534147\n",
      "F1-score:  0.6407181779478245\n"
     ]
    }
   ],
   "source": [
    "# SVC\n",
    "from sklearn.svm import SVC\n",
    "model = SVC()\n",
    "model.fit(X_train, y_train)\n",
    "test_model(model)"
   ]
  },
  {
   "cell_type": "code",
   "execution_count": 92,
   "id": "08b36955",
   "metadata": {},
   "outputs": [
    {
     "data": {
      "image/png": "[encoded data removed]",
      "text/plain": [
       "<Figure size 432x288 with 2 Axes>"
      ]
     },
     "metadata": {
      "needs_background": "light"
     },
     "output_type": "display_data"
    },
    {
     "name": "stdout",
     "output_type": "stream",
     "text": [
      "Accuracy:  0.653252449305081\n",
      "Precision:  0.7379297890891597\n",
      "Recall:  0.47713704206241525\n",
      "F1-score:  0.5782408444471564\n"
     ]
    }
   ],
   "source": [
    "# Naive Bayes\n",
    "from sklearn.naive_bayes import GaussianNB\n",
    "model = GaussianNB()\n",
    "model.fit(X_train, y_train)\n",
    "test_model(model)"
   ]
  },
  {
   "cell_type": "code",
   "execution_count": 93,
   "id": "e43d6dc9",
   "metadata": {},
   "outputs": [
    {
     "data": {
      "image/png": "[encoded data removed]",
      "text/plain": [
       "<Figure size 432x288 with 2 Axes>"
      ]
     },
     "metadata": {
      "needs_background": "light"
     },
     "output_type": "display_data"
    },
    {
     "name": "stdout",
     "output_type": "stream",
     "text": [
      "Accuracy:  0.7008658008658009\n",
      "Precision:  0.7531562227508324\n",
      "Recall:  0.6041383989145184\n",
      "F1-score:  0.6679154246405818\n"
     ]
    }
   ],
   "source": [
    "from sklearn.ensemble import RandomForestClassifier\n",
    "model = RandomForestClassifier(max_depth=2, random_state=42)\n",
    "model.fit(X_train, y_train)\n",
    "test_model(model)"
   ]
  },
  {
   "cell_type": "code",
   "execution_count": null,
   "id": "e59c03eb",
   "metadata": {},
   "outputs": [],
   "source": []
  },
  {
   "cell_type": "code",
   "execution_count": null,
   "id": "065a6769",
   "metadata": {},
   "outputs": [],
   "source": []
  },
  {
   "cell_type": "code",
   "execution_count": null,
   "id": "5e3afd10",
   "metadata": {},
   "outputs": [],
   "source": []
  }
 ],
 "metadata": {
  "kernelspec": {
   "display_name": "Python 3 (ipykernel)",
   "language": "python",
   "name": "python3"
  },
  "language_info": {
   "codemirror_mode": {
    "name": "ipython",
    "version": 3
   },
   "file_extension": ".py",
   "mimetype": "text/x-python",
   "name": "python",
   "nbconvert_exporter": "python",
   "pygments_lexer": "ipython3",
   "version": "3.9.6"
  }
 },
 "nbformat": 4,
 "nbformat_minor": 5
}
