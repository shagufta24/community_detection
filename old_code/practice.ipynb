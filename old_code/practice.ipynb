{
 "cells": [
  {
   "cell_type": "code",
   "execution_count": 1,
   "id": "bc7771c6",
   "metadata": {},
   "outputs": [],
   "source": [
    "import igraph as ig"
   ]
  },
  {
   "cell_type": "code",
   "execution_count": 2,
   "id": "e0393079",
   "metadata": {},
   "outputs": [],
   "source": [
    "karate = ig.Graph.Read_GML(\"karate.gml\")"
   ]
  },
  {
   "cell_type": "code",
   "execution_count": 3,
   "id": "6fa7312e",
   "metadata": {},
   "outputs": [
    {
     "data": {
      "text/plain": [
       "[(0, 1),\n",
       " (0, 2),\n",
       " (1, 2),\n",
       " (0, 3),\n",
       " (1, 3),\n",
       " (2, 3),\n",
       " (0, 4),\n",
       " (0, 5),\n",
       " (0, 6),\n",
       " (4, 6),\n",
       " (5, 6),\n",
       " (0, 7),\n",
       " (1, 7),\n",
       " (2, 7),\n",
       " (3, 7),\n",
       " (0, 8),\n",
       " (2, 8),\n",
       " (2, 9),\n",
       " (0, 10),\n",
       " (4, 10),\n",
       " (5, 10),\n",
       " (0, 11),\n",
       " (0, 12),\n",
       " (3, 12),\n",
       " (0, 13),\n",
       " (1, 13),\n",
       " (2, 13),\n",
       " (3, 13),\n",
       " (5, 16),\n",
       " (6, 16),\n",
       " (0, 17),\n",
       " (1, 17),\n",
       " (0, 19),\n",
       " (1, 19),\n",
       " (0, 21),\n",
       " (1, 21),\n",
       " (23, 25),\n",
       " (24, 25),\n",
       " (2, 27),\n",
       " (23, 27),\n",
       " (24, 27),\n",
       " (2, 28),\n",
       " (23, 29),\n",
       " (26, 29),\n",
       " (1, 30),\n",
       " (8, 30),\n",
       " (0, 31),\n",
       " (24, 31),\n",
       " (25, 31),\n",
       " (28, 31),\n",
       " (2, 32),\n",
       " (8, 32),\n",
       " (14, 32),\n",
       " (15, 32),\n",
       " (18, 32),\n",
       " (20, 32),\n",
       " (22, 32),\n",
       " (23, 32),\n",
       " (29, 32),\n",
       " (30, 32),\n",
       " (31, 32),\n",
       " (8, 33),\n",
       " (9, 33),\n",
       " (13, 33),\n",
       " (14, 33),\n",
       " (15, 33),\n",
       " (18, 33),\n",
       " (19, 33),\n",
       " (20, 33),\n",
       " (22, 33),\n",
       " (23, 33),\n",
       " (26, 33),\n",
       " (27, 33),\n",
       " (28, 33),\n",
       " (29, 33),\n",
       " (30, 33),\n",
       " (31, 33),\n",
       " (32, 33)]"
      ]
     },
     "execution_count": 3,
     "metadata": {},
     "output_type": "execute_result"
    }
   ],
   "source": [
    "karate.get_edgelist()"
   ]
  },
  {
   "cell_type": "code",
   "execution_count": 4,
   "id": "b427805b",
   "metadata": {},
   "outputs": [
    {
     "data": {
      "text/plain": [
       "3"
      ]
     },
     "execution_count": 4,
     "metadata": {},
     "output_type": "execute_result"
    }
   ],
   "source": [
    "karate.degree(4)"
   ]
  },
  {
   "cell_type": "code",
   "execution_count": null,
   "id": "69cea087",
   "metadata": {},
   "outputs": [],
   "source": [
    "def degree_centrality(g, vertex):\n",
    "    \n",
    "    "
   ]
  },
  {
   "cell_type": "code",
   "execution_count": null,
   "id": "54dc5698",
   "metadata": {},
   "outputs": [],
   "source": []
  },
  {
   "cell_type": "code",
   "execution_count": null,
   "id": "48a62691",
   "metadata": {},
   "outputs": [],
   "source": []
  }
 ],
 "metadata": {
  "kernelspec": {
   "display_name": "Python 3 (ipykernel)",
   "language": "python",
   "name": "python3"
  },
  "language_info": {
   "codemirror_mode": {
    "name": "ipython",
    "version": 3
   },
   "file_extension": ".py",
   "mimetype": "text/x-python",
   "name": "python",
   "nbconvert_exporter": "python",
   "pygments_lexer": "ipython3",
   "version": "3.9.6"
  }
 },
 "nbformat": 4,
 "nbformat_minor": 5
}