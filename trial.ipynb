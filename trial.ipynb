{
 "cells": [
  {
   "cell_type": "code",
   "execution_count": 1,
   "metadata": {},
   "outputs": [],
   "source": [
    "import igraph as ig\n",
    "import networkx as nx\n",
    "import pandas as pd\n",
    "from tqdm import tqdm"
   ]
  },
  {
   "cell_type": "code",
   "execution_count": 2,
   "metadata": {},
   "outputs": [],
   "source": [
    "from util_funcs import *\n",
    "from single_funcs import *\n",
    "from pair_funcs import *"
   ]
  },
  {
   "cell_type": "code",
   "execution_count": 4,
   "metadata": {},
   "outputs": [
    {
     "name": "stdout",
     "output_type": "stream",
     "text": [
      "Graph read successfully.\n"
     ]
    }
   ],
   "source": [
    "graph_name = \"power\"\n",
    "gml_file_path = \"datasets/\" + graph_name + \".gml\"\n",
    "output_path = graph_name + \"_data\"\n",
    "\n",
    "try:\n",
    "    graph_ig = ig.Graph.Read_GML(gml_file_path)\n",
    "    print(\"Graph read successfully.\")\n",
    "except OSError as e:\n",
    "    print(\"File not found.\")\n",
    "    quit()"
   ]
  },
  {
   "cell_type": "code",
   "execution_count": 5,
   "metadata": {},
   "outputs": [],
   "source": [
    "# Converting igraph to networkx\n",
    "graph_nx = ig_to_nx(graph_ig)"
   ]
  },
  {
   "cell_type": "code",
   "execution_count": 6,
   "metadata": {},
   "outputs": [],
   "source": [
    "# Assigning a name attribute to each vertex, whose value is the same as the vertex index\n",
    "graph_ig.vs[\"name\"] = [v.index for v in graph_ig.vs()]"
   ]
  },
  {
   "cell_type": "code",
   "execution_count": 7,
   "metadata": {},
   "outputs": [],
   "source": [
    "# Listing all functions\n",
    "single_funcs = [k_degree, eccentricity, triangles, clique_num, coreness, betweenness_centrality, closeness_centrality, harmonic_centrality, eigenvector_centrality, decay_centrality, pagerank, katz_centrality, local_clustering_coeff, global_clustering_coeff, shannon_diversity, h_index, neighborhood_density, rwr, lpi, lrw]\n",
    "pair_funcs = [are_connected, common_triangles, common_neighbors, cosine_similarity, pearson_similarity, euclidean_distance, manhattan_distance, hamming_distance, covariance, rand_index, jaccard_index, sorenson_dice, hub_promoted, hub_depressed, lhn, res_alloc, adamic_adar, pref_attach, overlap_coeff, nbd_overlap, edge_conn, vertex_conn, katz_index, avg_commute_time, cosine_l, l_plus, mfi]"
   ]
  },
  {
   "cell_type": "code",
   "execution_count": 8,
   "metadata": {},
   "outputs": [],
   "source": [
    "# Create dataframe to store function outputs\n",
    "total_vertices = total_vertices(graph_ig)\n",
    "row_count = int(total_vertices * (total_vertices-1) / 2)\n",
    "node_1 = []\n",
    "node_2 = []\n",
    "for i in range(total_vertices):\n",
    "  for j in range(i, total_vertices):\n",
    "    if i!=j:\n",
    "      node_1.append(i)\n",
    "      node_2.append(j)\n",
    "\n",
    "df = pd.DataFrame()\n",
    "df['node_1'] = node_1\n",
    "df['node_2'] = node_2"
   ]
  },
  {
   "cell_type": "code",
   "execution_count": 12,
   "metadata": {},
   "outputs": [],
   "source": [
    "# Computing subgraphs\n",
    "\n",
    "level = 1 # Keeping it 1 for now\n",
    "subgraphs_ig = []\n",
    "subgraphs_nx = []\n",
    "for vertex_id in range(total_vertices):\n",
    "    induced_ig = level_induced_subgraph(graph_ig, vertex_id, level)\n",
    "    subgraphs_ig.append(induced_ig)\n",
    "    induced_edge_list = induced_ig.get_edgelist()\n",
    "    induced_nx = nx.Graph(induced_edge_list)\n",
    "    subgraphs_nx.append(induced_nx)"
   ]
  },
  {
   "cell_type": "code",
   "execution_count": 17,
   "metadata": {},
   "outputs": [
    {
     "name": "stdout",
     "output_type": "stream",
     "text": [
      "k_degree\n"
     ]
    },
    {
     "name": "stderr",
     "output_type": "stream",
     "text": [
      "  6%|▌         | 693225/12204270 [00:26<07:11, 26652.13it/s]\n"
     ]
    },
    {
     "ename": "KeyboardInterrupt",
     "evalue": "",
     "output_type": "error",
     "traceback": [
      "\u001b[1;31m---------------------------------------------------------------------------\u001b[0m",
      "\u001b[1;31mKeyboardInterrupt\u001b[0m                         Traceback (most recent call last)",
      "\u001b[1;32m~\\AppData\\Local\\Temp/ipykernel_33452/2314406623.py\u001b[0m in \u001b[0;36m<module>\u001b[1;34m\u001b[0m\n\u001b[0;32m     12\u001b[0m         \u001b[0mnew_index_2\u001b[0m \u001b[1;33m=\u001b[0m \u001b[0mreset_id\u001b[0m\u001b[1;33m(\u001b[0m\u001b[0msubgraph_2\u001b[0m\u001b[1;33m,\u001b[0m \u001b[0mindex_2\u001b[0m\u001b[1;33m)\u001b[0m\u001b[1;33m\u001b[0m\u001b[1;33m\u001b[0m\u001b[0m\n\u001b[0;32m     13\u001b[0m         \u001b[0mnode_1\u001b[0m\u001b[1;33m.\u001b[0m\u001b[0mappend\u001b[0m\u001b[1;33m(\u001b[0m\u001b[0mfunc\u001b[0m\u001b[1;33m(\u001b[0m\u001b[0msubgraph_1\u001b[0m\u001b[1;33m,\u001b[0m \u001b[0mnew_index_1\u001b[0m\u001b[1;33m)\u001b[0m\u001b[1;33m)\u001b[0m\u001b[1;33m\u001b[0m\u001b[1;33m\u001b[0m\u001b[0m\n\u001b[1;32m---> 14\u001b[1;33m         \u001b[0mnode_2\u001b[0m\u001b[1;33m.\u001b[0m\u001b[0mappend\u001b[0m\u001b[1;33m(\u001b[0m\u001b[0mfunc\u001b[0m\u001b[1;33m(\u001b[0m\u001b[0msubgraph_2\u001b[0m\u001b[1;33m,\u001b[0m \u001b[0mnew_index_2\u001b[0m\u001b[1;33m)\u001b[0m\u001b[1;33m)\u001b[0m\u001b[1;33m\u001b[0m\u001b[1;33m\u001b[0m\u001b[0m\n\u001b[0m\u001b[0;32m     15\u001b[0m \u001b[1;33m\u001b[0m\u001b[0m\n\u001b[0;32m     16\u001b[0m     \u001b[0mdf\u001b[0m\u001b[1;33m[\u001b[0m\u001b[0mfunc\u001b[0m\u001b[1;33m.\u001b[0m\u001b[0m__name__\u001b[0m \u001b[1;33m+\u001b[0m \u001b[1;34m'_1'\u001b[0m\u001b[1;33m]\u001b[0m \u001b[1;33m=\u001b[0m \u001b[0mnode_1\u001b[0m\u001b[1;33m\u001b[0m\u001b[1;33m\u001b[0m\u001b[0m\n",
      "\u001b[1;32mc:\\Users\\shagu\\Projects\\community_detection\\single_funcs.py\u001b[0m in \u001b[0;36mk_degree\u001b[1;34m(g, vertex_id)\u001b[0m\n\u001b[0;32m      7\u001b[0m \u001b[1;33m\u001b[0m\u001b[0m\n\u001b[0;32m      8\u001b[0m \u001b[1;32mdef\u001b[0m \u001b[0mk_degree\u001b[0m\u001b[1;33m(\u001b[0m\u001b[0mg\u001b[0m\u001b[1;33m,\u001b[0m \u001b[0mvertex_id\u001b[0m\u001b[1;33m)\u001b[0m\u001b[1;33m:\u001b[0m\u001b[1;33m\u001b[0m\u001b[1;33m\u001b[0m\u001b[0m\n\u001b[1;32m----> 9\u001b[1;33m   \u001b[1;32mreturn\u001b[0m \u001b[0mg\u001b[0m\u001b[1;33m.\u001b[0m\u001b[0mneighborhood_size\u001b[0m\u001b[1;33m(\u001b[0m\u001b[0mvertex_id\u001b[0m\u001b[1;33m)\u001b[0m \u001b[1;33m-\u001b[0m \u001b[1;36m1\u001b[0m\u001b[1;33m\u001b[0m\u001b[1;33m\u001b[0m\u001b[0m\n\u001b[0m\u001b[0;32m     10\u001b[0m \u001b[1;33m\u001b[0m\u001b[0m\n\u001b[0;32m     11\u001b[0m \u001b[1;32mdef\u001b[0m \u001b[0meccentricity\u001b[0m\u001b[1;33m(\u001b[0m\u001b[0mg\u001b[0m\u001b[1;33m,\u001b[0m \u001b[0mvertex_id\u001b[0m\u001b[1;33m)\u001b[0m\u001b[1;33m:\u001b[0m\u001b[1;33m\u001b[0m\u001b[1;33m\u001b[0m\u001b[0m\n",
      "\u001b[1;31mKeyboardInterrupt\u001b[0m: "
     ]
    }
   ],
   "source": [
    "# Single node features\n",
    "for func in single_funcs:\n",
    "    print(func.__name__)\n",
    "    node_1 = []\n",
    "    node_2 = []\n",
    "    for i in tqdm(range(row_count)):\n",
    "        index_1 = int(df['node_1'][i])\n",
    "        index_2 = int(df['node_2'][i])\n",
    "        subgraph_1 = subgraphs_ig[index_1]\n",
    "        subgraph_2 = subgraphs_ig[index_2]\n",
    "        new_index_1 = reset_id(subgraph_1, index_1)\n",
    "        new_index_2 = reset_id(subgraph_2, index_2)\n",
    "        node_1.append(func(subgraph_1, new_index_1))\n",
    "        node_2.append(func(subgraph_2, new_index_2))\n",
    "\n",
    "    df[func.__name__ + '_1'] = node_1\n",
    "    df[func.__name__ + '_2'] = node_2"
   ]
  },
  {
   "cell_type": "code",
   "execution_count": 14,
   "metadata": {},
   "outputs": [
    {
     "name": "stderr",
     "output_type": "stream",
     "text": [
      "100%|██████████| 20/20 [00:00<00:00, 19953.87it/s]"
     ]
    },
    {
     "name": "stdout",
     "output_type": "stream",
     "text": [
      "k_degree\n",
      "eccentricity\n",
      "triangles\n",
      "clique_num\n",
      "coreness\n",
      "betweenness_centrality\n",
      "closeness_centrality\n",
      "harmonic_centrality\n",
      "eigenvector_centrality\n",
      "decay_centrality\n",
      "pagerank\n",
      "katz_centrality\n",
      "local_clustering_coeff\n",
      "global_clustering_coeff\n",
      "shannon_diversity\n",
      "h_index\n",
      "neighborhood_density\n",
      "rwr\n",
      "lpi\n",
      "lrw\n"
     ]
    },
    {
     "name": "stderr",
     "output_type": "stream",
     "text": [
      "\n"
     ]
    }
   ],
   "source": [
    "for func in tqdm(single_funcs):\n",
    "    print(func.__name__)"
   ]
  },
  {
   "cell_type": "code",
   "execution_count": null,
   "metadata": {},
   "outputs": [],
   "source": []
  }
 ],
 "metadata": {
  "kernelspec": {
   "display_name": "Python 3.9.6 64-bit",
   "language": "python",
   "name": "python3"
  },
  "language_info": {
   "codemirror_mode": {
    "name": "ipython",
    "version": 3
   },
   "file_extension": ".py",
   "mimetype": "text/x-python",
   "name": "python",
   "nbconvert_exporter": "python",
   "pygments_lexer": "ipython3",
   "version": "3.9.6"
  },
  "orig_nbformat": 4,
  "vscode": {
   "interpreter": {
    "hash": "a70e35cc37e5d6b43581a2bbcc812898b7c7399b258b00c62cbb1ff710d022c3"
   }
  }
 },
 "nbformat": 4,
 "nbformat_minor": 2
}
